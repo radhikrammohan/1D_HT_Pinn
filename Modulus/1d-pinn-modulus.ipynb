import modulus
print(modulus.--version--)
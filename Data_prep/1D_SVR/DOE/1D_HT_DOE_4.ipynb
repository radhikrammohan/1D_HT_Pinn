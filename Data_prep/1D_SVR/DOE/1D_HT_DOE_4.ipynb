{
 "cells": [
  {
   "cell_type": "markdown",
   "metadata": {},
   "source": [
    "# 1D Three Phase Simulation of Alloys and PINN model development \n"
   ]
  },
  {
   "cell_type": "markdown",
   "metadata": {},
   "source": [
    "This notebook contains the simulation of 1D Phase change of aluminium alloy. There will be three phases (solid,liquid and mushy).   \n",
    "\n",
    "The approach used is finite difference method and the physics involved in heat conduction."
   ]
  },
  {
   "cell_type": "markdown",
   "metadata": {},
   "source": [
    "Import Libraries"
   ]
  },
  {
   "cell_type": "code",
   "execution_count": 1,
   "metadata": {},
   "outputs": [],
   "source": [
    "import sys\n",
    "import math\n",
    "import numpy as np\n",
    "import matplotlib.pyplot as plt\n",
    "from matplotlib.animation import FuncAnimation\n",
    "import csv\n",
    "from sklearn import svm\n",
    "import pandas as pd\n",
    "import itertools\n",
    "\n",
    "from ht_simNy import sim1d\n",
    "\n",
    "\n",
    "\n",
    "from pyDOE2 import fullfact\n",
    "from pyDOE2 import fracfact\n",
    "\n",
    "import statsmodels.api as sm\n",
    "\n",
    "from statsmodels.formula.api import ols\n",
    "from scipy.stats import ttest_ind\n",
    "\n"
   ]
  },
  {
   "cell_type": "markdown",
   "metadata": {},
   "source": [
    "### <center>Pareto analysis</center>"
   ]
  },
  {
   "cell_type": "markdown",
   "metadata": {},
   "source": [
    "<p style=\"font-size:12px; font-family:'Times New Roman', sans-serif; line-height:1.6;\">\n",
    "\n",
    "In this section sensitivity study of the soldification is performed with respect to different material properties and  initial/boundary conditions. The soldification time is the variable under study and it is calcualted based on solution of 1D heat transfer and phase change equation.\n",
    "\n",
    "\n",
    "\n",
    "Here the parameters/factors are as follows:-\n",
    "\n",
    "1. Density for material in liquid state $\\rho_l$.<br>\n",
    "2. Density for material in solid state $\\rho_s$.<br>\n",
    "3. Latent Heat of Fusion <br>\n",
    "4. Specific heat of material in liquid state $C_{pl}$ <br>\n",
    "5. Specific heat of material in solid state $C_{ps}$ <br>\n",
    "6. Thermal Conductivity of material in liquid state $k_l$<br>\n",
    "7. Thermal Conductivity of material in solid state $k_s$ <br>\n",
    "\n",
    "\n",
    "Boundary conditions:-\n",
    "8. Surrounding Temperature <br>\n",
    "\n",
    "Initial Conditions:-\n",
    "\n",
    "9. Initial_temperature <br>\n",
    "\n",
    "\n",
    "</p>\n",
    "\n",
    "\n"
   ]
  },
  {
   "cell_type": "markdown",
   "metadata": {},
   "source": [
    "The number of runs are large so a fractional factorial design is adopted."
   ]
  },
  {
   "cell_type": "code",
   "execution_count": 2,
   "metadata": {},
   "outputs": [
    {
     "name": "stdout",
     "output_type": "stream",
     "text": [
      "(64, 10)\n"
     ]
    }
   ],
   "source": [
    "#Create a fractional factorial design\n",
    "\n",
    "from pyDOE2 import fracfact\n",
    "\n",
    "num_levels = 2\n",
    "levels = [0, 1]\n",
    "num_vars = 10\n",
    "design2 = fracfact('a b c d e f abcdef abcd bcde adce ')\n",
    "L_level = 0.99\n",
    "R_level = 1.01\n",
    "perc_change = 0.07\n",
    "factor_levels = {\n",
    "    'rho_l': [2760.0, 2760.0 * (1 + perc_change)],\n",
    "    'rho_s': [3000.0, 3000.0 * (1 + perc_change)],\n",
    "    'k_l': [96.0, 96.0 * (1 + perc_change)],\n",
    "    'k_s': [110.0,  110.0 * (1 + perc_change)],\n",
    "    'cp_l': [927.0, 927.0* (1 + perc_change)],\n",
    "    'cp_s': [967.0, 967.0 * (1 + perc_change)],\n",
    "    'Surr_temp': [313.0, 313.0 * (1 + perc_change)],\n",
    "    'L_fusion': [389e3, 389e3 * (1 + perc_change)],\n",
    "    'temp_init': [880.0, 880.0 * (1 + perc_change)],\n",
    "    'heat_transfer_coefficient': [10.0, 10.0 * (1 + perc_change)],\n",
    "\n",
    "}\n",
    "\n",
    "factor_names = list(factor_levels.keys())\n",
    "\n",
    "# Create a DataFrame from the fractional factorial design\n",
    "doe_df_sol_time_fracfact = pd.DataFrame(design2, columns=factor_names)\n",
    "\n",
    "for factor, levels in factor_levels.items():\n",
    "    doe_df_sol_time_fracfact[factor] = doe_df_sol_time_fracfact[factor].map({-1: levels[0], 1: levels[1]})\n",
    "\n",
    "    \n",
    "print(doe_df_sol_time_fracfact.shape)"
   ]
  },
  {
   "cell_type": "code",
   "execution_count": 3,
   "metadata": {},
   "outputs": [],
   "source": [
    "FracFact_doe_sol_time = doe_df_sol_time_fracfact.copy()\n",
    "\n",
    "FracFact_doe_sol_time['Lowest_Niyama'] = [0.0] * FracFact_doe_sol_time.shape[0] # Data frame inclduing the response variable\n",
    "\n",
    "# print(Res_doe_sol_time.head(5))\n",
    "\n"
   ]
  },
  {
   "cell_type": "code",
   "execution_count": null,
   "metadata": {},
   "outputs": [],
   "source": []
  },
  {
   "cell_type": "code",
   "execution_count": 4,
   "metadata": {},
   "outputs": [
    {
     "name": "stdout",
     "output_type": "stream",
     "text": [
      "[6044.50441104 5827.79213293 5333.67108041 4846.68053987 4374.89046156\n",
      " 3918.2395783  3485.83194148 3074.74862921 2694.24367021 2338.90051294\n",
      " 2017.3586644  1722.33611854 1461.31100862 1225.90797882 1022.15407893\n",
      "  841.34369998  688.00423587  553.72252843  441.66445734  344.10306188\n",
      "  263.09815628  191.73940149  131.29055375   75.5429022    25.28657019\n",
      "   25.28657019   75.5429022   131.29055375  191.73940149  263.09815628\n",
      "  344.10306188  441.66445734  553.72252843  688.00423587  841.34369998\n",
      " 1022.15407893 1225.90797882 1461.31100862 1722.33611854 2017.3586644\n",
      " 2338.90051294 2694.24367021 3074.74862921 3485.83194148 3918.2395783\n",
      " 4374.89046156 4846.68053987 5333.67108041 5827.79213293 6044.50441104]\n",
      "19542\n"
     ]
    },
    {
     "ename": "IndexError",
     "evalue": "index 50 is out of bounds for axis 1 with size 50",
     "output_type": "error",
     "traceback": [
      "\u001b[0;31m---------------------------------------------------------------------------\u001b[0m",
      "\u001b[0;31mIndexError\u001b[0m                                Traceback (most recent call last)",
      "Cell \u001b[0;32mIn[4], line 5\u001b[0m\n\u001b[1;32m      3\u001b[0m \u001b[38;5;28;01mfor\u001b[39;00m i \u001b[38;5;129;01min\u001b[39;00m \u001b[38;5;28mrange\u001b[39m(FracFact_doe_sol_time\u001b[38;5;241m.\u001b[39mshape[\u001b[38;5;241m0\u001b[39m]):\n\u001b[1;32m      4\u001b[0m     input_values \u001b[38;5;241m=\u001b[39m FracFact_doe_sol_time\u001b[38;5;241m.\u001b[39miloc[i,:\u001b[38;5;241m-\u001b[39m\u001b[38;5;241m1\u001b[39m]\u001b[38;5;241m.\u001b[39mvalues\n\u001b[0;32m----> 5\u001b[0m     k\u001b[38;5;241m=\u001b[39m \u001b[43msim1d\u001b[49m\u001b[43m(\u001b[49m\u001b[38;5;241;43m*\u001b[39;49m\u001b[43minput_values\u001b[49m\u001b[43m)\u001b[49m\n\u001b[1;32m      6\u001b[0m     FracFact_doe_sol_time\u001b[38;5;241m.\u001b[39mat[i, \u001b[38;5;124m'\u001b[39m\u001b[38;5;124mLowest_Niyama\u001b[39m\u001b[38;5;124m'\u001b[39m] \u001b[38;5;241m=\u001b[39m k[\u001b[38;5;241m4\u001b[39m]\n",
      "File \u001b[0;32m~/github/gen2/1D_HT_Pinn/Data_prep/1D_SVR/DOE/ht_simNy.py:176\u001b[0m, in \u001b[0;36msim1d\u001b[0;34m(rho_l, rho_s, k_l, k_s, cp_l, cp_s, t_surr, L_fusion, temp_init, htc)\u001b[0m\n\u001b[1;32m    174\u001b[0m \u001b[38;5;28;01mfor\u001b[39;00m i \u001b[38;5;129;01min\u001b[39;00m \u001b[38;5;28mrange\u001b[39m(num_steps\u001b[38;5;241m+\u001b[39m\u001b[38;5;241m1\u001b[39m):\n\u001b[1;32m    175\u001b[0m     \u001b[38;5;28;01mfor\u001b[39;00m j \u001b[38;5;129;01min\u001b[39;00m \u001b[38;5;28mrange\u001b[39m(num_points\u001b[38;5;241m+\u001b[39m\u001b[38;5;241m2\u001b[39m):\n\u001b[0;32m--> 176\u001b[0m         \u001b[38;5;28;01mif\u001b[39;00m \u001b[43mgrad_t_x\u001b[49m\u001b[43m[\u001b[49m\u001b[43mi\u001b[49m\u001b[43m,\u001b[49m\u001b[43mj\u001b[49m\u001b[43m]\u001b[49m \u001b[38;5;241m==\u001b[39m \u001b[38;5;241m0\u001b[39m:\n\u001b[1;32m    177\u001b[0m             k2[i,j] \u001b[38;5;241m=\u001b[39m \u001b[38;5;241m0\u001b[39m\n\u001b[1;32m    178\u001b[0m         \u001b[38;5;28;01mif\u001b[39;00m grad_t_t[i,j]\u001b[38;5;241m==\u001b[39m \u001b[38;5;241m0\u001b[39m:\n",
      "\u001b[0;31mIndexError\u001b[0m: index 50 is out of bounds for axis 1 with size 50"
     ]
    }
   ],
   "source": [
    "# here the response values are calculated using sim1d function\n",
    "\n",
    "for i in range(FracFact_doe_sol_time.shape[0]):\n",
    "    input_values = FracFact_doe_sol_time.iloc[i,:-1].values\n",
    "    k= sim1d(*input_values)\n",
    "    FracFact_doe_sol_time.at[i, 'Lowest_Niyama'] = k[4]\n",
    "    \n",
    "\n",
    "    "
   ]
  },
  {
   "cell_type": "markdown",
   "metadata": {},
   "source": [
    " Histogram of the Total Solidifcation time is plotted"
   ]
  },
  {
   "cell_type": "code",
   "execution_count": null,
   "metadata": {},
   "outputs": [],
   "source": [
    "plt.hist(FracFact_doe_sol_time['total_sol_time'], bins=10, alpha=0.5, color='b')\n",
    "plt.title('Total Soldification time')\n",
    "plt.xlabel('Seconds')\n",
    "plt.ylabel('Frequency')\n",
    "plt.show()"
   ]
  },
  {
   "cell_type": "markdown",
   "metadata": {},
   "source": [
    "Regression model is developed"
   ]
  },
  {
   "cell_type": "code",
   "execution_count": null,
   "metadata": {},
   "outputs": [],
   "source": [
    "\n",
    "\n",
    "# Create the formula for the ANOVA\n",
    "formula = 'total_sol_time ~ C(rho_l) + C(rho_s) + C(k_l) + C(k_s) + C(cp_l) + C(cp_s) + C(Surr_temp) + C(L_fusion) + C(temp_init)+ C(heat_transfer_coefficient)'\n",
    "\n",
    "# Fit the model\n",
    "model = sm.OLS.from_formula(formula, data=FracFact_doe_sol_time).fit()\n",
    "print(model.summary())\n"
   ]
  },
  {
   "cell_type": "code",
   "execution_count": null,
   "metadata": {},
   "outputs": [],
   "source": [
    "residuals_ols = model.resid\n",
    "FracFact_doe_sol_time['Residuals'] =residuals_ols\n",
    "print (f\"The plots of the residuals vs. fitted values are shown below\")\n",
    "# Plot residuals vs. fitted values\n",
    "plt.scatter(model.fittedvalues, residuals_ols)\n",
    "plt.axhline(0, color='red', linestyle='--')\n",
    "plt.title('Residuals vs. Fitted Values')\n",
    "plt.xlabel('Fitted Values')\n",
    "plt.ylabel('Residuals')\n",
    "plt.show()\n",
    "\n",
    "\n",
    "print (f\"This is followed by the histogram of the residuals\")\n",
    "plt.hist(residuals_ols, bins=10, alpha=0.5, color='b')\n",
    "plt.title('Residuals Histogram')\n",
    "plt.xlabel('Seconds')\n",
    "plt.ylabel('Frequency')\n",
    "plt.show()"
   ]
  },
  {
   "cell_type": "markdown",
   "metadata": {},
   "source": [
    "Residuals of the model was calculated and the normality of its residuals were checked"
   ]
  },
  {
   "cell_type": "code",
   "execution_count": null,
   "metadata": {},
   "outputs": [],
   "source": [
    "from scipy.stats import shapiro\n",
    "\n",
    "# Shapiro-Wilk Test\n",
    "stat, p_value = shapiro(residuals_ols)\n",
    "print('Shapiro-Wilk Test Statistic:', stat)\n",
    "print('p-value:', p_value)\n",
    "\n",
    "if p_value > 0.05:\n",
    "    print('The residuals are normally distributed (fail to reject H0).')\n",
    "else:\n",
    "    print('The residuals are not normally distributed (reject H0).')\n"
   ]
  },
  {
   "cell_type": "markdown",
   "metadata": {},
   "source": [
    "Log transformation is performed on the response variable and then new model is developed"
   ]
  },
  {
   "cell_type": "code",
   "execution_count": null,
   "metadata": {},
   "outputs": [],
   "source": [
    "transformed_data = np.log( FracFact_doe_sol_time['total_sol_time']+ 1)  # Add 1 to avoid log(0)\n",
    "LogTrans_doe_sol_time = FracFact_doe_sol_time.copy()\n",
    "LogTrans_doe_sol_time['transf_data'] = transformed_data\n",
    "\n",
    "# Create the formula for the ANOVA\n",
    "formula2 = 'transf_data ~ C(rho_l) + C(rho_s) + C(k_l) + C(k_s) + C(cp_l) + C(cp_s) + C(Surr_temp) + C(L_fusion) + C(temp_init)+ C(heat_transfer_coefficient)'\n",
    "\n",
    "# Fit the model\n",
    "model2 = sm.OLS.from_formula(formula2, data=LogTrans_doe_sol_time).fit()\n",
    "print(model.summary())"
   ]
  },
  {
   "cell_type": "markdown",
   "metadata": {},
   "source": [
    "Residuals of the new model is calcualted and normality tests are performed on the new model"
   ]
  },
  {
   "cell_type": "code",
   "execution_count": null,
   "metadata": {},
   "outputs": [],
   "source": [
    "residuals2 = model2.resid\n",
    "\n",
    "# Shapiro-Wilk Test\n",
    "stat, p_value = shapiro(residuals2)\n",
    "print('Shapiro-Wilk Test Statistic:', stat)\n",
    "print('p-value:', p_value)\n",
    "\n",
    "if p_value > 0.05:\n",
    "    print('The residuals are normally distributed (fail to reject H0).')\n",
    "else:\n",
    "    print('The residuals are not normally distributed (reject H0).')"
   ]
  },
  {
   "cell_type": "code",
   "execution_count": null,
   "metadata": {},
   "outputs": [],
   "source": [
    "print (f\"The plots of the residuals vs. fitted values are shown below\")\n",
    "# Plot residuals vs. fitted values\n",
    "plt.scatter(model.fittedvalues, residuals2)\n",
    "plt.axhline(0, color='red', linestyle='--')\n",
    "plt.title('Residuals vs. Fitted Values')\n",
    "plt.xlabel('Fitted Values')\n",
    "plt.ylabel('Residuals')\n",
    "plt.show()\n",
    "\n",
    "\n",
    "print (f\"This is followed by the histogram of the residuals\")\n",
    "plt.hist(residuals2, bins=10, alpha=0.5, color='b')\n",
    "plt.title('Residuals Histogram')\n",
    "plt.xlabel('Seconds')\n",
    "plt.ylabel('Frequency')\n",
    "plt.show()\n"
   ]
  },
  {
   "cell_type": "markdown",
   "metadata": {},
   "source": [
    "ANOVA Test of the model"
   ]
  },
  {
   "cell_type": "code",
   "execution_count": null,
   "metadata": {},
   "outputs": [],
   "source": [
    "from statsmodels.formula.api import ols\n",
    "# Create the formula for the ANOVA\n",
    "formula = 'transf_data ~ C(rho_l) + C(rho_s) + C(k_l) + C(k_s) + C(cp_l) + C(cp_s) + C(Surr_temp)+ C(L_fusion) + C(temp_init)+ C(heat_transfer_coefficient)'\n",
    "\n",
    "# Fit the model\n",
    "model_anova = ols(formula, data=LogTrans_doe_sol_time).fit()\n",
    "\n",
    "# Perform ANOVA\n",
    "anova_results = sm.stats.anova_lm(model_anova, typ=2)\n",
    "\n",
    "# Display the ANOVA results\n",
    "print(anova_results)\n",
    "print(model.summary())"
   ]
  },
  {
   "cell_type": "markdown",
   "metadata": {},
   "source": [
    "Here we can observe that the main effects are Thermal conductivity of "
   ]
  },
  {
   "cell_type": "code",
   "execution_count": null,
   "metadata": {},
   "outputs": [],
   "source": [
    "from scipy.stats import f\n",
    "# Create a DataFrame from the ANOVA results\n",
    "anova_results_df = anova_results.reset_index()\n",
    "\n",
    "# Sort by the F-statistic or sum of squares for visualization\n",
    "anova_results_df = anova_results_df.sort_values(by='F', ascending=False)\n",
    "\n",
    "dfn = anova_results_df['df'][0]\n",
    "dfd = model.df_resid\n",
    "\n",
    "alpha = 0.05\n",
    "f_critical = f.ppf(1-alpha, dfn, dfd)\n",
    "print(f'Critical F-value: {f_critical}')\n",
    "\n",
    "# Plot the Pareto chart\n",
    "plt.figure(figsize=(10, 6))\n",
    "plt.bar(anova_results_df['index'], anova_results_df['F'], color='b')\n",
    "plt.axhline(f_critical, color='r', linestyle='--',linewidth=2)\n",
    "plt.xlabel('Factors')\n",
    "plt.ylabel('F-statistic')\n",
    "plt.title('Pareto Chart of ANOVA F-statistics')\n",
    "plt.xticks(rotation=45)\n",
    "plt.grid(True)\n",
    "plt.show()"
   ]
  },
  {
   "cell_type": "markdown",
   "metadata": {},
   "source": [
    "Checking for Multicollinearity"
   ]
  },
  {
   "cell_type": "code",
   "execution_count": null,
   "metadata": {},
   "outputs": [],
   "source": [
    "import pandas as pd\n",
    "import statsmodels.api as sm\n",
    "from statsmodels.stats.outliers_influence import variance_inflation_factor\n",
    "\n",
    "# Assuming 'data' is your DataFrame\n",
    "X =LogTrans_doe_sol_time[['rho_l', 'rho_s', 'k_l', 'k_s', 'Surr_temp', 'L_fusion', 'temp_init','cp_l','cp_s']]\n",
    "y =LogTrans_doe_sol_time['total_sol_time']\n",
    "\n",
    "# Add constant term\n",
    "X = sm.add_constant(X)\n",
    "\n",
    "# Fit the model\n",
    "model = sm.OLS(y, X).fit()\n",
    "print(model.summary())\n",
    "\n",
    "# Check VIF\n",
    "vif = pd.DataFrame()\n",
    "vif[\"Variable\"] = X.columns\n",
    "vif[\"VIF\"] = [variance_inflation_factor(X.values, i) for i in range(X.shape[1])]\n",
    "print(vif)\n"
   ]
  },
  {
   "cell_type": "markdown",
   "metadata": {},
   "source": [
    "Main effects and Interactions Terms Analysis"
   ]
  },
  {
   "cell_type": "code",
   "execution_count": null,
   "metadata": {},
   "outputs": [],
   "source": [
    "mean_response = {}\n",
    "\n",
    "for factor in factor_names:\n",
    "    mean_response[factor] = FracFact_doe_sol_time.groupby(factor)['total_sol_time'].mean()\n",
    "\n",
    "plt.figure(figsize=(25, 10))\n",
    "\n",
    "for i, factor in enumerate(factor_names):\n",
    "    plt.subplot(2, 5, i+1)\n",
    "    plt.plot(mean_response[factor], marker='o', color='b')\n",
    "    plt.title(f'Mean Response vs. {factor}')\n",
    "    plt.xlabel(factor)\n",
    "    plt.ylabel('Solidifcation time')\n",
    "\n",
    "plt.tight_layout()\n",
    "plt.show()\n"
   ]
  },
  {
   "cell_type": "code",
   "execution_count": null,
   "metadata": {},
   "outputs": [],
   "source": [
    "# # Function to plot interaction effects\n",
    "# def plot_interaction(df, factor1, factor2, response):\n",
    "#     levels1 = sorted(df[factor1].unique())\n",
    "#     levels2 = sorted(df[factor2].unique())\n",
    "    \n",
    "#     mean_responses = df.groupby([factor1, factor2])[response].mean().unstack()\n",
    "    \n",
    "#     plt.figure()\n",
    "#     for level2 in levels2:\n",
    "        \n",
    "#         plt.plot(levels1, mean_responses[level2], marker='o', label=f'{factor2}={level2}')\n",
    "#     plt.xlabel(factor1)\n",
    "#     plt.ylabel(f'Mean {response}')\n",
    "#     plt.title(f'Interaction Effect of {factor1} and {factor2}')\n",
    "#     plt.legend()\n",
    "#     plt.show()\n",
    "\n",
    "# # Plot interaction effects for each pair of factors\n",
    "# plt.figure(figsize=(10, 6))\n",
    "\n",
    "# for i in range(len(factor_names)):\n",
    "    \n",
    "#     for j in range(i+1, len(factor_names)):\n",
    "        \n",
    "#         plot_interaction(FracFact_doe_sol_time, factor_names[i], factor_names[j], 'total_sol_time')\n",
    "# plt.tight_layout()\n",
    "# plt.show()"
   ]
  },
  {
   "cell_type": "markdown",
   "metadata": {},
   "source": [
    "The interaction was observed among rho_l and cp_s , rho_s and cp_s , cp_l and cp_s  & cp_s and temp_init."
   ]
  },
  {
   "cell_type": "code",
   "execution_count": null,
   "metadata": {},
   "outputs": [],
   "source": [
    "formula3 = 'total_sol_time ~ C(rho_l) + C(rho_s) + C(k_l) + C(k_s) + C(cp_l) + C(cp_s) + C(Surr_temp) + C(L_fusion) + C(temp_init) + C(rho_l)*C(cp_s)+ C(rho_s)*C(cp_s) + C(L_fusion)*C(cp_s)+C(cp_l)*C(cp_s)+C(cp_s)*C(temp_init) + C(cp_s)*C(Surr_temp) + C(cp_s)*C(k_s) + C(cp_s)*C(k_l) + C(cp_s)*C(rho_s) + C(cp_s)*C(rho_l) + C(cp_s)*C(L_fusion) + C(cp_s)*C(Surr_temp) + C(cp_s)*C(temp_init) + C(cp_s)*C(heat_transfer_coefficient)'\n",
    "\n",
    "model4 = sm.OLS.from_formula(formula3, data=LogTrans_doe_sol_time).fit()\n",
    "print(model4.summary())"
   ]
  },
  {
   "cell_type": "code",
   "execution_count": null,
   "metadata": {},
   "outputs": [],
   "source": [
    "num_center_points = 1\n",
    "\n",
    "center_point = {factor: np.mean(levels) for factor,levels in factor_levels.items()}\n",
    "\n",
    "center_pt_df = pd.DataFrame([center_point] * num_center_points, columns=factor_names)\n",
    "\n",
    "doe_center_pt = pd.concat([doe_df_sol_time_fracfact, center_pt_df], ignore_index=True)\n",
    "print(doe_center_pt.shape)"
   ]
  },
  {
   "cell_type": "code",
   "execution_count": null,
   "metadata": {},
   "outputs": [],
   "source": [
    "Fractional_Factorial_doe_center_pt = doe_center_pt.copy()\n",
    "\n",
    "Fractional_Factorial_doe_center_pt['total_sol_time'] = [0.0] * Fractional_Factorial_doe_center_pt.shape[0]\n"
   ]
  },
  {
   "cell_type": "code",
   "execution_count": null,
   "metadata": {},
   "outputs": [],
   "source": [
    "for i in range(Fractional_Factorial_doe_center_pt.shape[0]):\n",
    "    input_values = Fractional_Factorial_doe_center_pt.iloc[i,:-1].values\n",
    "    k= sim1d(*input_values)\n",
    "    Fractional_Factorial_doe_center_pt.at[i, 'total_sol_time'] = k[0]"
   ]
  },
  {
   "cell_type": "code",
   "execution_count": null,
   "metadata": {},
   "outputs": [],
   "source": [
    "plt.hist(Fractional_Factorial_doe_center_pt['total_sol_time'], bins=10, alpha=0.5, color='b')\n",
    "plt.title('Total Soldification time')\n",
    "plt.xlabel('Seconds')\n",
    "plt.ylabel('Frequency')\n",
    "plt.show()"
   ]
  },
  {
   "cell_type": "code",
   "execution_count": null,
   "metadata": {},
   "outputs": [],
   "source": [
    "formula5 = 'total_sol_time ~ C(rho_l) + C(rho_s) + C(k_l) + C(k_s) + C(cp_l) + C(cp_s) + C(Surr_temp) + C(L_fusion) + C(temp_init)+ C(heat_transfer_coefficient)'\n",
    "\n",
    "model5 = sm.OLS.from_formula(formula5, data=Fractional_Factorial_doe_center_pt).fit()\n",
    "print(model5.summary())"
   ]
  },
  {
   "cell_type": "code",
   "execution_count": null,
   "metadata": {},
   "outputs": [],
   "source": [
    "residual5 = model5.resid\n",
    "Fractional_Factorial_doe_center_pt['Residuals'] =residual5\n",
    "print (f\"The plots of the residuals vs. fitted values are shown below\")\n",
    "# Plot residuals vs. fitted values\n",
    "plt.scatter(model5.fittedvalues, residual5)\n",
    "plt.axhline(0, color='red', linestyle='--')\n",
    "plt.title('Residuals vs. Fitted Values')\n",
    "plt.xlabel('Fitted Values')\n",
    "plt.ylabel('Residuals')\n",
    "plt.show()\n",
    "\n"
   ]
  },
  {
   "cell_type": "code",
   "execution_count": null,
   "metadata": {},
   "outputs": [],
   "source": [
    "from scipy.stats import shapiro\n",
    "\n",
    "# Shapiro-Wilk Test\n",
    "stat, p_value = shapiro(residual5)\n",
    "print('Shapiro-Wilk Test Statistic:', stat)\n",
    "print('p-value:', p_value)\n",
    "\n",
    "if p_value > 0.05:\n",
    "    print('The residuals are normally distributed (fail to reject H0).')\n",
    "else:\n",
    "    print('The residuals are not normally distributed (reject H0).')\n",
    "    "
   ]
  },
  {
   "cell_type": "code",
   "execution_count": null,
   "metadata": {},
   "outputs": [],
   "source": [
    "transf_center = np.log( Fractional_Factorial_doe_center_pt['total_sol_time']+ 1)  # Add 1 to avoid log(0)\n",
    "LogTrans_center = Fractional_Factorial_doe_center_pt.copy()\n",
    "LogTrans_center['transf_data'] = transf_center\n",
    "\n",
    "formula6 = 'transf_data ~ C(rho_l) + C(rho_s) + C(k_l) + C(k_s) + C(cp_l) + C(cp_s) + C(Surr_temp) + C(L_fusion) + C(temp_init)+ C(heat_transfer_coefficient)'\n",
    "model6 = sm.OLS.from_formula(formula6, data=LogTrans_center).fit()\n",
    "print(model6.summary())\n"
   ]
  },
  {
   "cell_type": "code",
   "execution_count": null,
   "metadata": {},
   "outputs": [],
   "source": [
    "residuls6 = model6.resid\n",
    "\n",
    "# Shapiro-Wilk Test\n",
    "stat, p_value = shapiro(residuls6)\n",
    "print('Shapiro-Wilk Test Statistic:', stat)\n",
    "print('p-value:', p_value)\n",
    "\n",
    "if p_value > 0.05:\n",
    "    print('The residuals are normally distributed (fail to reject H0).')\n",
    "else:\n",
    "    print('The residuals are not normally distributed (reject H0).')\n",
    "    "
   ]
  },
  {
   "cell_type": "code",
   "execution_count": null,
   "metadata": {},
   "outputs": [],
   "source": [
    "print (f\"The plots of the residuals vs. fitted values are shown below\")\n",
    "# Plot residuals vs. fitted values\n",
    "plt.scatter(model6.fittedvalues, residuls6)\n",
    "plt.axhline(0, color='red', linestyle='--')\n",
    "plt.title('Residuals vs. Fitted Values')\n",
    "plt.xlabel('Fitted Values')\n",
    "plt.ylabel('Residuals')\n",
    "plt.show()"
   ]
  },
  {
   "cell_type": "code",
   "execution_count": null,
   "metadata": {},
   "outputs": [],
   "source": [
    "from statsmodels.formula.api import ols\n",
    "\n",
    "formula7 = 'transf_data ~ C(rho_l) + C(rho_s) + C(k_l) + C(k_s) + C(cp_l) + C(cp_s) + C(Surr_temp) + C(L_fusion) + C(temp_init)+ C(heat_transfer_coefficient)'\n",
    "\n",
    "model7 = ols(formula7, data=LogTrans_center).fit()\n",
    "\n",
    "anova_results7 = sm.stats.anova_lm(model7, typ=2)\n",
    "\n",
    "print(anova_results7)"
   ]
  },
  {
   "cell_type": "code",
   "execution_count": null,
   "metadata": {},
   "outputs": [],
   "source": [
    "if anova_results7['PR(>F)'][0] < 0.05:\n",
    "    print('The main effects are significant.')\n",
    "else:\n",
    "    print('The main effects are not significant.')"
   ]
  },
  {
   "cell_type": "code",
   "execution_count": null,
   "metadata": {},
   "outputs": [],
   "source": [
    "mean_response_center = {}\n",
    "\n",
    "for factor in factor_names:\n",
    "    mean_response_center[factor] = Fractional_Factorial_doe_center_pt.groupby(factor)['total_sol_time'].mean()\n",
    "\n",
    "plt.figure(figsize=(25, 10))\n",
    "\n",
    "for i, factor in enumerate(factor_names):\n",
    "    plt.subplot(2, 5, i+1)\n",
    "    plt.plot(mean_response[factor], marker='o', color='b')\n",
    "    \n",
    "    # Plotting the center points\n",
    "    center_points = mean_response_center[factor]\n",
    "    plt.scatter(center_points.index, center_points.values, color='r', label='Center Points')\n",
    "    plt.title(f'Mean Response vs. {factor}')\n",
    "    plt.xlabel(factor)\n",
    "    plt.ylabel('Solidifcation time')\n",
    "\n",
    "plt.tight_layout()\n",
    "plt.show()\n"
   ]
  }
 ],
 "metadata": {
  "kernelspec": {
   "display_name": "Python (pytorch-env)",
   "language": "python",
   "name": "myenv"
  },
  "language_info": {
   "codemirror_mode": {
    "name": "ipython",
    "version": 3
   },
   "file_extension": ".py",
   "mimetype": "text/x-python",
   "name": "python",
   "nbconvert_exporter": "python",
   "pygments_lexer": "ipython3",
   "version": "3.11.9"
  }
 },
 "nbformat": 4,
 "nbformat_minor": 2
}

{
 "cells": [
  {
   "cell_type": "markdown",
   "metadata": {},
   "source": [
    "# 1D Three Phase Simulation of Alloys and PINN model development \n"
   ]
  },
  {
   "cell_type": "markdown",
   "metadata": {},
   "source": [
    "This notebook contains the simulation of 1D Phase change of aluminium alloy. There will be three phases (solid,liquid and mushy).   \n",
    "\n",
    "The approach used is finite difference method and the physics involved in heat conduction."
   ]
  },
  {
   "cell_type": "markdown",
   "metadata": {},
   "source": [
    "Import Libraries"
   ]
  },
  {
   "cell_type": "code",
   "execution_count": 9,
   "metadata": {},
   "outputs": [],
   "source": [
    "import sys\n",
    "import math\n",
    "import numpy as np\n",
    "import matplotlib.pyplot as plt\n",
    "from matplotlib.animation import FuncAnimation\n",
    "import csv\n",
    "from sklearn import svm\n",
    "import pandas as pd\n",
    "import itertools\n",
    "from sklearn.metrics import mean_squared_error\n",
    "from sklearn.model_selection import train_test_split\n",
    "from ht_sim import sim1d\n"
   ]
  },
  {
   "cell_type": "markdown",
   "metadata": {},
   "source": [
    "Define the constants and initial conditions\n",
    "\n",
    "Material :- AL 380\n",
    "\n",
    "| Sr.No | Properties  | Symbol | Value  | Unit |Range(source) |\n",
    "|:---:|:---:|:---:|:---:|:---:|:--:|\n",
    "| 1  | Liquidus Density | $\\rho_{l}$  | 2300 | $kg/m^3$  |  2200-2400 (ASM handbook) |\n",
    "|  2 |  Solidus Density  |  $\\rho_{s}$  | 2500  |  $kg/m^3$  | 2400-2600 (ASM handbook) |\n",
    "|  3 |  Mushy Desnity |  $\\rho_{m}$  |  2400 | $kg/m^3$   |Increase linearly from liquid to solid (ASM handbook) |\n",
    "|  4 |  Liquidus Thermal Conductivity| $k_l$  |  70 | $W/m-K$  |60-80 (ASM handbook) |\n",
    "|  5 |  Solidus Thermal Conductivity | $k_s$  | 180  |  $W/m-K$ | 150-210(ASM handbook) |\n",
    "|  6 | Mushy Zone Thermal Conductivity | $k_m$  | 125  |  $W/m-K$ |Decrease linearly from liquid to solid (ASM handbook) |\n",
    "|  7 | Liquidus Specific Heat | $c_{pl}$  | 1190  | $J/kg-K$  | 1100 -1200 (ASM handbook)|\n",
    "|  8 | Solidus Specific Heat | $c_{ps}$  |  1100 |  $J/kg-K$  | 1100-1200 (ASM handbook)|\n",
    "|  9 | Mushy Zone Specific Heat |  $c_{pm}$ | 1175 | $J/kg-K$   |decrease lineraly from liquid to solid (ASM handbook)|\n",
    "|  10 | Latent Heat of Fusion | $L_{fusion}$  | 450e3  | $J/kg$ | (400-500)e3 (ASM handbook) |\n",
    "| 11 | Left Boundary Temperature |$BCT_{l}$|623 |$K$| (623-723) Nissan Data |\n",
    "|12 | Right Boundary Temperature | $BCT_{r}$|623 |$K$| (623-723) Nissan Data |\n",
    "|13| Freezing time | |60 |sec|||"
   ]
  },
  {
   "cell_type": "code",
   "execution_count": 10,
   "metadata": {},
   "outputs": [
    {
     "name": "stdout",
     "output_type": "stream",
     "text": [
      "alpha_l = 2.9106785519374202e-05, alpha_s = 7.342657342657342e-05, alpha_m = 5.157618602996754e-05\n",
      "dx is 0.0003061224489795918\n",
      "dt is  0.00063812697090498\n",
      "num_steps is 7836\n",
      "cfl is 0.00063812697090498\n",
      "stability criteria satisfied\n"
     ]
    }
   ],
   "source": [
    "# Geometry\n",
    "length = 15e-3             # Length of the rod\n",
    "\n",
    "# Material properties\n",
    "rho = 2500                      # Density of AL380 (kg/m^3)\n",
    "rho_l = 2300\n",
    "rho_s = 2600\n",
    "rho_m = (rho_l + rho_s )/2       # Desnity in mushy zone is taken as average of liquid and solid density\n",
    "\n",
    "k = 80.0                        # W/m-K\n",
    "k_l = k                       # W/m-K\n",
    "k_s = 210.0                      # W/m-K\n",
    "k_m =  (k_l+k_s)/2                     # W/m-K\n",
    "\n",
    "cp = 1195                       # Specific heat of aluminum (J/kg-K)\n",
    "cp_l = cp\n",
    "cp_s = 1100\n",
    "cp_m =  (cp_l+cp_s)/2                 # Specific heat of mushy zone is taken as average of liquid and solid specific heat\n",
    "\n",
    "           # Thermal diffusivity\n",
    "alpha_l = k_l / (rho_l * cp_l)\n",
    "alpha_s = k_s / (rho_s*cp_s)\n",
    "alpha_m = k_m / (rho_m * cp_m)          #`Thermal diffusivity in mushy zone is taken as average of liquid and solid thermal diffusivity`\n",
    "print (f\"alpha_l = {alpha_l}, alpha_s = {alpha_s}, alpha_m = {alpha_m}\")\n",
    "\n",
    "#L_fusion = 3.9e3                 # J/kg\n",
    "L_fusion = 500e3               # J/kg  # Latent heat of fusion of aluminum\n",
    "         # Thermal diffusivity\n",
    "\n",
    "    \n",
    "                          # Spatial discretization\n",
    "\n",
    "num_points = 50                        # Number of spatial points\n",
    "dx = length / (num_points - 1)         # Distance between two spatial points\n",
    "print('dx is',dx)\n",
    "                                   #dt = time_end/num_steps\n",
    "#num_steps = 200000               # Number of time steps\n",
    "                                  # num_steps = round(time_end/dt)\n",
    "                                                              \n",
    "                            # Time Discretization  \n",
    "# \n",
    "time_end = 5          # seconds                         \n",
    "#num_steps = 10000\n",
    "# dt = time_end/num_steps\n",
    "maxi = max(alpha_s,alpha_l,alpha_m)\n",
    "dt = abs(0.5*((dx**2) /maxi))\n",
    "\n",
    "print('dt is ',dt)\n",
    "num_steps = round(time_end/dt)+1\n",
    "print('num_steps is',num_steps)\n",
    "cfl = 0.5 *(dx**2/max(alpha_l,alpha_s,alpha_m))\n",
    "print('cfl is',cfl)\n",
    "#dt = time_end / num_steps\n",
    "time_steps = np.linspace(0, time_end, num_steps + 1)\n",
    "step_coeff = dt / (dx ** 2)\n",
    "if dt <= cfl:\n",
    "    print('stability criteria satisfied')\n",
    "else:\n",
    "    print('stability criteria not satisfied')\n",
    "    sys.exit()"
   ]
  },
  {
   "cell_type": "markdown",
   "metadata": {},
   "source": [
    "### Initial and Boundary Conditions"
   ]
  },
  {
   "cell_type": "code",
   "execution_count": 15,
   "metadata": {},
   "outputs": [],
   "source": [
    "# Initial Conditions\n",
    "T_L = 889.0                       #  K -Liquidus Temperature (616 c) AL 380\n",
    "T_S = 823.0                      # K- Solidus Temperature (550 C)\n",
    "m_eff =(k_m/(rho_m*(cp_m-(L_fusion/(T_L-T_S)))))\n",
    "# cross verify the values of the liquidus and solidus from flowcast software\n",
    "htc = -9000.0                   # W/m^2-K\n",
    "q = htc*(919.0-313.0)\n",
    "\n",
    "# Initial temperature and phase fields\n",
    "temperature = np.full(num_points, 919.0)\n",
    "phase = np.zeros(num_points)*1.0\n",
    "\n",
    "# Set boundary conditions\n",
    "temperature[-1] = 313.0 #(40 C)\n",
    "phase[-1] = 1.0\n",
    "\n",
    "temperature[0] = 313.0 #(40 C)\n",
    "phase[0] = 1.0\n",
    "\n",
    "# Store initial state in history\n",
    "temperature_history = [temperature.copy()]\n",
    "phi_history = [phase.copy()]\n",
    "\n",
    "# print(temperature_history,phi_history)"
   ]
  },
  {
   "cell_type": "markdown",
   "metadata": {},
   "source": [
    "Solving the heat transfer equation and phase change using numerical methods"
   ]
  },
  {
   "cell_type": "code",
   "execution_count": 12,
   "metadata": {},
   "outputs": [],
   "source": [
    "# Finite difference method\n",
    "\n",
    "for m in range(1, num_steps+1):                  # time loop\n",
    "    \n",
    "    temperature[0] = temperature[1] + (q*dx /k_s) # Boundary condition at x=0\n",
    "    temperature[-1] = temperature[-2] + (q*dx /k_s) # Boundary condition at x=L\n",
    "    #print(f\"Step {m}, point {n},Temperature: {temperature}, Phase: {phase}\")\n",
    "\n",
    "    \n",
    "    for n in range(1,num_points-1):              # space loop, adjusted range\n",
    "       \n",
    "        if temperature[n] >= T_L:\n",
    "            temperature[n] = temperature[n] + ((alpha_l * dt )/ dx**2) * (temperature[n+1] - 2.0 * temperature[n] + temperature[n-1])\n",
    "            phase[n] = 0\n",
    "         \n",
    "            #print(m,n,temperature[n],phase[n])\n",
    "        elif T_S < temperature[n] < T_L:\n",
    "            #temperature[n] = temperature[n] - (((k * dt) / (rho*(T_L-T_S)*(cp*(T_L-T_S)-L_fusion)*(dx**2))) * (temperature[n+1] - 2 * temperature[n] + temperature[n-1]))\n",
    "            temperature[n] = temperature[n] - ((m_eff * step_coeff)* (temperature[n+1] - 2 * temperature[n] + temperature[n-1]))\n",
    "            phase[n] = (T_L - temperature[n]) / (T_L - T_S)\n",
    "            #print(m,n,temperature[n],phase[n])\n",
    "         \n",
    "        elif temperature[n]<T_S:\n",
    "            temperature[n] = temperature[n] + ((alpha_s * dt )/ dx**2) * (temperature[n+1] - 2.0 * temperature[n] + temperature[n-1])\n",
    "            phase[n] = 1\n",
    "            \n",
    "        else:\n",
    "            print(\"ERROR: should not be here\")\n",
    "         \n",
    "           # print(m,n,temperature[n],phase[n])\n",
    "    temperature = temperature.copy()\n",
    "    temperature_history.append(temperature.copy()) # Append the temperature history to add ghost points\n",
    "    phi_history.append(phase.copy())  # Append the phase history to add ghost points\n",
    "    #Print for debugging\n",
    "    #print(f\"Step {m}, space{n},Temperature: {temperature}, Phase: {phase}\")\n",
    "\n",
    "\n",
    "#print(temperature_history)\n",
    "#print(phi_history)\n",
    "\n",
    "\n"
   ]
  },
  {
   "cell_type": "markdown",
   "metadata": {},
   "source": [
    "Using max function for removing the if and else framework"
   ]
  },
  {
   "cell_type": "markdown",
   "metadata": {},
   "source": [
    " Finite difference method\n",
    "\n",
    "for m in range(1, num_steps+1):                  # time loop\n",
    "                # space loop, adjusted range\n",
    "        \n",
    "    temp_n = temperature[1:num_points-1]\n",
    "    #print('temp_n is',temp_n)\n",
    "    c1_val = np.maximum(temp_n - T_L,0) / np.where(temp_n- T_L!=0, temp_n - T_L, 1)\n",
    "    c1_val = np.where(c1_val == 0, 0, c1_val)\n",
    "    #print('c1_val is',c1_val)   \n",
    "    c2_val = np.maximum(T_S - temp_n,0) / np.where(T_S - temp_n!=0, T_S - temp_n, 1)\n",
    "    c2_val = np.where(c2_val == 0, 0, c2_val)\n",
    "    #print('c2_val is',c2_val)\n",
    "    c3_val = (1-c1_val)*(1-c2_val)\n",
    "    c3_val = np.where(c3_val == 0, 0, c3_val)\n",
    "    #print('c3_val is',c3_val) \n",
    "    #d2T_dx2 = (temperature[2:num_points] - 2*temp_n + temperature[0:num_points-2]) / dx**2\n",
    "    phu = (c1_val*alpha_l)+(c2_val*alpha_s)+(c3_val*(k_m/(rho_m*(cp_m-(L_fusion/(T_L-T_S))))))\n",
    "    temperature[1:num_points-1] += phu * (dt / dx**2)* (temperature[2:num_points] - 2*temp_n + temperature[0:num_points-2]) \n",
    "    phase[1:num_points-1] = np.clip((T_L - temp_n)/(T_L-T_S),0,1)\n",
    "    \n",
    "    #print(f\" time{m},Temperature: {temperature}, \")\n",
    "    temperature_history.append(np.round(temperature.copy(),3))\n",
    "    phi_history.append(np.round(phase.copy(),3))\n",
    "    #Print for debugging\n",
    "    \n",
    "\n",
    "\n",
    "#print(temperature_history)\n",
    "#print(phi_history)"
   ]
  },
  {
   "cell_type": "markdown",
   "metadata": {},
   "source": [
    "### Niyama Criteria Calculation"
   ]
  },
  {
   "cell_type": "markdown",
   "metadata": {},
   "source": [
    "\n",
    "c_lamda = (40.9) *10**(-6 )   #material constant for AL 356\n",
    "\n",
    "del_Pcr = 1.01 *10**5    # difference between P liquidus and P at critical pressure\n",
    "u_l = 1.58*10**(-3 )     # dynamic viscosity of liquid\n",
    "beta = (rho_s - rho_l)/ rho_l \n",
    "del_Tf = T_L - T_S\n",
    "print('del_Tf is',del_Tf)  \n",
    "\n",
    "\n",
    "g = np.array(np.gradient(temperature_history, axis=1))  #gradient of temperature\n",
    "t_dot = np.array(np.gradient(temperature_history, axis=0))   #time derivative of temperature\n",
    "t_dot = np.where(t_dot <= 0, 1e-10, t_dot)   #replace zero values with 1e-10\n",
    "Main= g /(t_dot**(5/6))                        #Main criterion\n",
    "Pcr = (del_Pcr/(u_l*beta*del_Tf))**(1/2)     #Critical pressure\n",
    "Niyama = c_lamda * Main *(Pcr)                   #Niyama criterion\n",
    "print(Niyama)\n",
    "\n"
   ]
  },
  {
   "cell_type": "code",
   "execution_count": 13,
   "metadata": {},
   "outputs": [],
   "source": [
    "temperature_history = np.array(temperature_history)\n",
    "phi_history = np.array(phi_history)\n",
    "#print(temperature_history)"
   ]
  },
  {
   "cell_type": "markdown",
   "metadata": {},
   "source": [
    "Plot the Results"
   ]
  },
  {
   "cell_type": "code",
   "execution_count": 14,
   "metadata": {},
   "outputs": [
    {
     "name": "stdout",
     "output_type": "stream",
     "text": [
      "Transposed Temperature History Shape: (7837, 50)\n",
      "Transposed Phi History Shape: (7837, 50)\n"
     ]
    },
    {
     "data": {
      "image/png": "[encoded data removed]",
      "text/plain": [
       "<Figure size 1400x600 with 4 Axes>"
      ]
     },
     "metadata": {},
     "output_type": "display_data"
    }
   ],
   "source": [
    "# Assuming you have temperature_history and phi_history as lists of arrays\n",
    "temperature_history = np.array(temperature_history)\n",
    "phi_history = np.array(phi_history)\n",
    "\n",
    "\n",
    "\n",
    "# Check the new shape after transposing\n",
    "print(\"Transposed Temperature History Shape:\", temperature_history.shape)\n",
    "print(\"Transposed Phi History Shape:\", phi_history.shape)\n",
    "\n",
    "# Create a meshgrid for space and time coordinates\n",
    "space_coord, time_coord = np.meshgrid(np.arange(temperature_history.shape[1]), np.arange(temperature_history.shape[0]))\n",
    "\n",
    "time_coord = time_coord * dt \n",
    "# Create a figure with two subplots\n",
    "fig, (ax1, ax2) = plt.subplots(1, 2, figsize=(14, 6))\n",
    "\n",
    "# Plot the temperature history on the left subplot\n",
    "im1 = ax1.pcolormesh(space_coord, time_coord, temperature_history, cmap='viridis')\n",
    "ax1.set_xlabel('Space Coordinate')\n",
    "ax1.set_ylabel('Time')\n",
    "ax1.set_title('Temperature Variation Over Time')\n",
    "fig.colorbar(im1, ax=ax1, label='Temperature')\n",
    "\n",
    "# Plot the phase history on the right subplot\n",
    "im2 = ax2.pcolormesh(space_coord, time_coord, phi_history, cmap='viridis')\n",
    "ax2.set_xlabel('Space Coordinate')\n",
    "ax2.set_ylabel('Time')\n",
    "ax2.set_title('Phase Variation Over Time')\n",
    "fig.colorbar(im2, ax=ax2, label='Phase')\n",
    "plt.tight_layout()\n",
    "plt.show()\n",
    "\n",
    "# #plot the main\n",
    "# fig, ax = plt.subplots(figsize=(14, 6))\n",
    "# im = ax.pcolormesh(space_coord, time_coord, Niyama, cmap='viridis')\n",
    "# ax.set_xlabel('Space Coordinate')\n",
    "# ax.set_ylabel('Time')\n",
    "# ax.set_title('Main Variation Over Time')\n",
    "# fig.colorbar(im, ax=ax, label='Main')\n",
    "# plt.tight_layout()\n",
    "# plt.show()"
   ]
  },
  {
   "cell_type": "markdown",
   "metadata": {},
   "source": [
    "### <center>Pareto analysis</center>"
   ]
  },
  {
   "cell_type": "markdown",
   "metadata": {},
   "source": [
    "In this section sensitivity study of the soldification and Niyama is performed with respect to different material proerties and their boundary conditions.\n",
    "\n",
    "A DOE table is created for different factors and their corresponding levels\n",
    "\n",
    "Here the parameters are as follows:-\n",
    "\n",
    "Density for material in liquid state $\\rho_l$.<br>\n",
    "Density for material in solid state $\\rho_s$.<br>\n",
    "Latent Heat of Fusion <br>\n",
    "Specific heat of material in liquid state $C_{pl}$ <br>\n",
    "Specific heat of material in solid state $C_{ps}$ <br>\n",
    "Thermal Conductivity of material in liquid state $k_l$<br>\n",
    "Thermal Conductivity of material in solid state $k_s$ <br>\n",
    "\n",
    "\n",
    "Boundary conditions:-\n",
    "BC at Left end,<br>\n",
    "BC at Right end<br>\n",
    "\n",
    "Initial Conditions:-\n",
    "\n",
    "Initial_temperature\n",
    "\n",
    "The simualtion of the 1D phase change is give temperature and phase change. The output/ target variable under study here is the Average solidification time of the entire geometry.\n",
    "\n",
    "If Niyama criteria is being considered then some additional input factors are also considered such as:-\n",
    "\n",
    "Material constant $C_\\lambda$\n",
    "Dynamic Viscosity $\\mu_l$\n",
    "\n"
   ]
  },
  {
   "cell_type": "markdown",
   "metadata": {},
   "source": [
    "Create a DOE table for Average Solidification Fraction at time t"
   ]
  },
  {
   "cell_type": "code",
   "execution_count": null,
   "metadata": {},
   "outputs": [],
   "source": [
    "import pandas as pd\n",
    "from pyDOE2 import fullfact\n",
    "\n",
    "# Create a full factorial design\n",
    "num_levels = 2\n",
    "levels = [0, 1]\n",
    "num_vars = 10\n",
    "design = fullfact([num_levels]*num_vars)\n",
    "\n",
    "# Create a DataFrame from the full factorial design\n",
    "doe_df_sol_time = pd.DataFrame(design, columns=[f'Var_{i}' for i in range(1, num_vars+1)])\n",
    "print(doe_df_sol_time.shape)"
   ]
  },
  {
   "cell_type": "code",
   "execution_count": null,
   "metadata": {},
   "outputs": [],
   "source": [
    "#Create a fractional factorial design\n",
    "\n",
    "from pyDOE2 import fracfact\n",
    "\n",
    "num_levels = 2\n",
    "levels = [0, 1]\n",
    "num_vars = 10\n",
    "design2 = fracfact('a b c d e f abcdef abcd bcde adce ')\n",
    "scale = 0.1\n",
    "factor_levels = {\n",
    "    'rho_l': [2760.0, 2860.0],\n",
    "    'rho_s': [2960.0, 3000.0],\n",
    "    'k_l': [150.0, 160.0],\n",
    "    'k_s': [170.0, 180.0],\n",
    "    'cp_l': [963.0, 983.0],\n",
    "    'cp_s': [993.0, 1000.0],\n",
    "    'Left_bc': [313.0, 323.0],\n",
    "    'right_bc': [400.0, 410.0],\n",
    "    'L_fusion': [3.9e3, 4.0e3],\n",
    "    'temp_init': [890.0, 900.0],\n",
    "\n",
    "}\n",
    "\n",
    "factor_names = list(factor_levels.keys())\n",
    "\n",
    "# Create a DataFrame from the fractional factorial design\n",
    "doe_df_sol_time_fracfact = pd.DataFrame(design2, columns=factor_names)\n",
    "\n",
    "for factor, levels in factor_levels.items():\n",
    "    doe_df_sol_time_fracfact[factor] = doe_df_sol_time_fracfact[factor].map({-1: levels[0], 1: levels[1]})\n",
    "\n",
    "    \n",
    "print(doe_df_sol_time_fracfact.shape)"
   ]
  },
  {
   "cell_type": "markdown",
   "metadata": {},
   "source": [
    "Create a DOE table for Average Dimensionless Niyama Number at time t"
   ]
  },
  {
   "cell_type": "code",
   "execution_count": null,
   "metadata": {},
   "outputs": [],
   "source": [
    "# Create a full factorial design\n",
    "num_levels = 2\n",
    "levels = [0, 1]\n",
    "num_vars = 11\n",
    "design = fullfact([num_levels]*num_vars)\n",
    "\n",
    "# Create a DataFrame from the full factorial design\n",
    "doe_df_niyama = pd.DataFrame(design, columns=[f'Var_{i}' for i in range(1, num_vars+1)])\n",
    "print(doe_df_niyama .shape)"
   ]
  },
  {
   "cell_type": "code",
   "execution_count": null,
   "metadata": {},
   "outputs": [],
   "source": [
    "Res_doe_sol_time = doe_df_sol_time_fracfact.copy()\n",
    "\n",
    "Res_doe_sol_time['avg_sol_time'] = [0.0] * Res_doe_sol_time.shape[0]\n",
    "\n",
    "print(Res_doe_sol_time.head(5))\n",
    "\n"
   ]
  },
  {
   "cell_type": "markdown",
   "metadata": {},
   "source": [
    "Function for simulation"
   ]
  },
  {
   "cell_type": "code",
   "execution_count": null,
   "metadata": {},
   "outputs": [],
   "source": [
    "# here the response values are calculated using sim1d function\n",
    "\n",
    "for i in range(Res_doe_sol_time.shape[0]):\n",
    "    input_values = Res_doe_sol_time.iloc[i,:-1].values\n",
    "    Res_doe_sol_time.at[i, 'avg_sol_time'] = sim1d(*input_values)"
   ]
  },
  {
   "cell_type": "code",
   "execution_count": null,
   "metadata": {},
   "outputs": [],
   "source": [
    "plt.hist(Res_doe_sol_time['avg_sol_time'], bins=10, alpha=0.5, color='b')\n",
    "plt.title('Histogram')\n",
    "plt.xlabel('Values')\n",
    "plt.ylabel('Frequency')\n",
    "plt.show()"
   ]
  },
  {
   "cell_type": "markdown",
   "metadata": {},
   "source": [
    "Anova of the DOE-Soldifcation time"
   ]
  },
  {
   "cell_type": "code",
   "execution_count": null,
   "metadata": {},
   "outputs": [],
   "source": [
    "from statsmodels.formula.api import ols\n",
    "# Create the formula for the ANOVA\n",
    "formula = 'avg_sol_time ~ C(rho_l) + C(rho_s) + C(k_l) + C(k_s) + C(cp_l) + C(cp_s) + C(Left_bc) + C(right_bc) + C(L_fusion) + C(temp_init)'\n",
    "\n",
    "# Fit the model\n",
    "model = ols(formula, data=Res_doe_sol_time).fit()\n",
    "\n",
    "# Perform ANOVA\n",
    "anova_results = sm.stats.anova_lm(model, typ=2)\n",
    "\n",
    "# Display the ANOVA results\n",
    "print(anova_results)\n",
    "print(model.summary())"
   ]
  },
  {
   "cell_type": "code",
   "execution_count": null,
   "metadata": {},
   "outputs": [],
   "source": [
    "# Create a DataFrame from the ANOVA results\n",
    "anova_results_df = anova_results.reset_index()\n",
    "\n",
    "# Sort by the F-statistic or sum of squares for visualization\n",
    "anova_results_df = anova_results_df.sort_values(by='F', ascending=False)\n",
    "\n",
    "# Plot the Pareto chart\n",
    "plt.figure(figsize=(10, 6))\n",
    "plt.bar(anova_results_df['index'], anova_results_df['F'], color='b')\n",
    "plt.xlabel('Factors')\n",
    "plt.ylabel('F-statistic')\n",
    "plt.title('Pareto Chart of ANOVA F-statistics')\n",
    "plt.xticks(rotation=45)\n",
    "plt.grid(True)\n",
    "plt.show()"
   ]
  }
 ],
 "metadata": {
  "kernelspec": {
   "display_name": "Python (pytorch-env)",
   "language": "python",
   "name": "myenv"
  },
  "language_info": {
   "codemirror_mode": {
    "name": "ipython",
    "version": 3
   },
   "file_extension": ".py",
   "mimetype": "text/x-python",
   "name": "python",
   "nbconvert_exporter": "python",
   "pygments_lexer": "ipython3",
   "version": "3.1.undefined"
  }
 },
 "nbformat": 4,
 "nbformat_minor": 2
}

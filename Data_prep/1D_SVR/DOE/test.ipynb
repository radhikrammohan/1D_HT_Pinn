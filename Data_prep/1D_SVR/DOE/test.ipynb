{
 "cells": [
  {
   "cell_type": "code",
   "execution_count": 1,
   "metadata": {},
   "outputs": [],
   "source": [
    "import sys\n",
    "import math\n",
    "import numpy as np\n",
    "import matplotlib.pyplot as plt\n",
    "from matplotlib.animation import FuncAnimation\n",
    "import csv\n",
    "from sklearn import svm\n",
    "import pandas as pd\n",
    "import itertools\n",
    "from ht_simNy import sim1d"
   ]
  },
  {
   "cell_type": "code",
   "execution_count": 2,
   "metadata": {},
   "outputs": [
    {
     "name": "stdout",
     "output_type": "stream",
     "text": [
      "alpha_l = 3.394878564540885e-05, alpha_s = 3.686205086349929e-05, m_eff = 6.296953764744878e-06\n",
      "dx is 0.0003061224489795918\n",
      "dt is  0.0012711033647622566\n",
      "num_steps is 788\n",
      "cfl is 0.0012711033647622566\n",
      "stability criteria satisfied\n"
     ]
    }
   ],
   "source": [
    "# Geometry\n",
    "length = 15.0e-3             # Length of the rod\n",
    "\n",
    "# Material properties\n",
    "rho = 2300.0                     # Density of AL380 (kg/m^3)\n",
    "rho_l = 2460.0                   # Density of AL380 (kg/m^3)\n",
    "rho_s = 2710.0                    # Density of AL380 (kg/m^3)\n",
    "rho_m = (rho_l + rho_s )/2       # Desnity in mushy zone is taken as average of liquid and solid density\n",
    "\n",
    "k = 104.0                       # W/m-K\n",
    "k_l = k                       # W/m-K\n",
    "k_s = 96.2                    # W/m-K\n",
    "k_m =  (k_l+k_s)/2                     # W/m-K\n",
    "k_mo = 41.5\n",
    "\n",
    "\n",
    "cp = 1245.3                      # Specific heat of aluminum (J/kg-K)\n",
    "cp_l = cp                      # Specific heat of aluminum (J/kg-K)\n",
    "cp_s = 963.0                 # Specific heat of aluminum (J/kg-K)\n",
    "cp_m =  (cp_l+cp_s)/2                 # Specific heat of mushy zone is taken as average of liquid and solid specific heat\n",
    "# cp_m = cp\n",
    "           # Thermal diffusivity\n",
    "alpha_l = k_l / (rho_l * cp_l) \n",
    "alpha_s = k_s / (rho_s*cp_s)\n",
    "alpha_m = k_m / (rho_m * cp_m)          #`Thermal diffusivity in mushy zone is taken as average of liquid and solid thermal diffusivity`\n",
    "\n",
    "\n",
    "#L_fusion = 3.9e3                 # J/kg\n",
    "L_fusion = 389.0e3               # J/kg  # Latent heat of fusion of aluminum\n",
    "         # Thermal diffusivity\n",
    "\n",
    "\n",
    "T_L = 847.4                       #  K -Liquidus Temperature (615 c) AL 380\n",
    "T_S = 770.3                      # K- Solidus Temperature (550 C)\n",
    "m_eff =(k_m/(rho_m*(cp_m + (L_fusion/(T_L-T_S)))))\n",
    "print (f\"alpha_l = {alpha_l}, alpha_s = {alpha_s}, m_eff = {m_eff}\")\n",
    "\n",
    "htc = -900.0                   # W/m^2-K\n",
    "q = htc*(919.0-723.0)\n",
    "# q = -1000.0\n",
    "\n",
    "\n",
    "num_points = 50                        # Number of spatial points\n",
    "dx = length / (num_points - 1)         # Distance between two spatial points\n",
    "print('dx is',dx)\n",
    "                                   #dt = time_end/num_steps\n",
    "#num_steps = 200000               # Number of time steps\n",
    "                                  # num_steps = round(time_end/dt)\n",
    "                                                              \n",
    "                            # Time Discretization  \n",
    "# \n",
    "\n",
    "time_end = 1        # seconds                         \n",
    "#num_steps = 10000\n",
    "# dt = time_end/num_steps \n",
    "maxi = max(alpha_s,alpha_l,alpha_m)\n",
    "dt = abs(0.5*((dx**2) /maxi))\n",
    "current_time = dt\n",
    "\n",
    "print('dt is ',dt)\n",
    "num_steps = round(time_end/dt)+1\n",
    "print('num_steps is',num_steps)\n",
    "cfl = 0.5 *(dx**2/max(alpha_l,alpha_s,alpha_m))\n",
    "print('cfl is',cfl)\n",
    "#dt = time_end / num_steps\n",
    "time_steps = np.linspace(0, time_end, num_steps + 1)\n",
    "step_coeff = dt / (dx ** 2)\n",
    "if dt <= cfl:\n",
    "    print('stability criteria satisfied')\n",
    "else:\n",
    "    print('stability criteria not satisfied')\n",
    "    sys.exit()"
   ]
  },
  {
   "cell_type": "code",
   "execution_count": 3,
   "metadata": {},
   "outputs": [],
   "source": [
    "temp_init = 919.0\n",
    "# Initial temperature and phase fields\n",
    "temperature = np.full(num_points, temp_init)\n",
    "phase = np.zeros(num_points)*1.0\n",
    "\n",
    "# Set boundary conditions\n",
    "# temperature[-1] = 723.0 #(40 C)\n",
    "phase[-1] = 1.0\n",
    "\n",
    "# temperature[0] = 723.0 #(40 C)\n",
    "phase[0] = 1.0\n",
    "\n",
    "\n",
    "# Store initial state in history\n",
    "temperature_history = [temperature.copy()]\n",
    "phi_history = [phase.copy()]\n",
    "\n",
    "t_surr = 573.0 # Surrounding temperature\n",
    "dm = 60.0e-3   # thickness of the mold\n",
    "\n",
    "r_m = k_mo / dm\n",
    "\n",
    "midpoint_index = num_points // 2\n",
    "\n",
    "midpoint_temperature_history = [temperature[midpoint_index]]\n",
    "\n",
    "dm = 60.0e-3\n",
    "\n",
    "r_m = k_mo / dm\n",
    "\n",
    "t_surr = 573.0\n",
    "# t_surr = h()\n",
    "\n",
    "def kramp(temp,v1,v2,T_L,T_S):   # Function to calculate thermal conductivity in Mushy Zone\n",
    "        slope = (v1-v2)/(T_L-T_S)\n",
    "        if temp > T_L:\n",
    "            k_m = k_l\n",
    "        elif temp < T_S:\n",
    "            k_m = k_s\n",
    "        else:\n",
    "            k_m = k_s + slope*(temp-T_S)\n",
    "        return k_m\n",
    "\n",
    "def cp_ramp(temp,v1,v2,T_L,T_s):    # Function to calculate specific heat capacity in Mushy Zone\n",
    "    slope = (v1-v2)/(T_L-T_S)\n",
    "    if temp > T_L:\n",
    "        cp_m = cp_l\n",
    "    elif temp < T_S:\n",
    "        cp_m = cp_s\n",
    "    else:\n",
    "        cp_m = cp_s + slope*(temp-T_S)\n",
    "    return cp_m\n",
    "\n",
    "def rho_ramp(temp,v1,v2,T_L,T_s):   # Function to calculate density in Mushy Zone\n",
    "    slope = (v1-v2)/(T_L-T_S)\n",
    "    if temp > T_L:\n",
    "        rho_m = rho_l\n",
    "    elif temp < T_S:\n",
    "        rho_m = rho_s\n",
    "    else:\n",
    "        rho_m = rho_s + slope*(temp-T_S)\n",
    "    return rho_m"
   ]
  },
  {
   "cell_type": "code",
   "execution_count": 4,
   "metadata": {},
   "outputs": [
    {
     "name": "stdout",
     "output_type": "stream",
     "text": [
      "Simulation complete @ time:  54.340939946986275\n"
     ]
    }
   ],
   "source": [
    "while current_time < time_end:  # time loop\n",
    "        r_s = k_s/dx\n",
    "        temperature[0] = (r_s * temperature[1] + r_m * t_surr) / (r_s + r_m)\n",
    "        temperature[-1] = (r_s * temperature[-2] + r_m * t_surr) / (r_s + r_m)                \n",
    "        for n in range(1,num_points-1):              # space loop, adjusted range\n",
    "                \n",
    "            if temperature[n] >= T_L:\n",
    "\n",
    "                temperature[n] = temperature[n] + ((alpha_l * step_coeff) * (temperature[n+1] - (2.0 * temperature[n]) + temperature[n-1]))\n",
    "                \n",
    "                phase[n] = 0\n",
    "         \n",
    "                \n",
    "            elif T_S < temperature[n] < T_L:\n",
    "            \n",
    "                k_m = kramp(temperature[n],k_l,k_s,T_L,T_S)\n",
    "                cp_m = cp_ramp(temperature[n],cp_l,cp_s,T_L,T_S)\n",
    "                rho_m = rho_ramp(temperature[n],rho_l,rho_s,T_L,T_S)\n",
    "                m_eff =(k_m/(rho_m*(cp_m + (L_fusion/(T_L-T_S)))))\n",
    "                # r_s = k_m/dx\n",
    "\n",
    "                temperature[n] = temperature[n] + ((m_eff * step_coeff)* (temperature[n+1] - (2.0 * temperature[n]) + temperature[n-1]))\n",
    "                \n",
    "                # temperature[0] = (r_s * temperature[1] + r_m * t_surr) / (r_s + r_m)\n",
    "                # temperature[-1] = (r_s * temperature[-2] + r_m * t_surr) / (r_s + r_m)\n",
    "                phase[n] = (T_L - temperature[n]) / (T_L - T_S) \n",
    "                \n",
    "            \n",
    "         \n",
    "            elif temperature[n] <= T_S:\n",
    "                temperature[n] = temperature[n] + ((alpha_s * step_coeff) * (temperature[n+1] - (2.0 * temperature[n])+ temperature[n-1]))\n",
    "                r_s = k_s/dx\n",
    "                # temperature[0] = (r_s * temperature[1] + r_m * t_surr) / (r_s + r_m)\n",
    "                # temperature[-1] = (r_s * temperature[-2] + r_m * t_surr) / (r_s + r_m)\n",
    "                phase[n] = 1\n",
    "            \n",
    "            else:\n",
    "                print(\"ERROR: should not be here\")\n",
    "        \n",
    "            \n",
    "        current_time = current_time + dt\n",
    "        time_end = time_end + dt\n",
    "        temperature = temperature.copy()\n",
    "        phase = phase.copy()\n",
    "        temperature_history.append(temperature.copy())\n",
    "        phi_history.append(phase.copy())\n",
    "        midpoint_temperature_history.append(temperature[midpoint_index])        \n",
    "        if np.all(phase == 1):\n",
    "            print(\"Simulation complete @ time: \", current_time)\n",
    "            break\n",
    "        "
   ]
  },
  {
   "cell_type": "code",
   "execution_count": 5,
   "metadata": {},
   "outputs": [
    {
     "name": "stdout",
     "output_type": "stream",
     "text": [
      "55.3396688436235\n",
      "(42751,)\n"
     ]
    },
    {
     "data": {
      "image/png": "[encoded data removed]",
      "text/plain": [
       "<Figure size 1000x600 with 1 Axes>"
      ]
     },
     "metadata": {},
     "output_type": "display_data"
    }
   ],
   "source": [
    "print(time_end)\n",
    "temperature_history_1 = np.array(midpoint_temperature_history)\n",
    "print(temperature_history_1.shape)\n",
    "# Plot temperature history for debugging\n",
    "\n",
    "time_ss= np.linspace(0, time_end, len(midpoint_temperature_history))\n",
    "# print(time_ss.shape)\n",
    "plt.figure(figsize=(10, 6))\n",
    "plt.plot(time_ss, midpoint_temperature_history, label='Midpoint Temperature')\n",
    "plt.axhline(y=T_L, color='r', linestyle='--', label='Liquidus Temperature')\n",
    "plt.axhline(y=T_S, color='g', linestyle='--', label='Solidus Temperature')\n",
    "plt.xlabel('Time(s)')\n",
    "plt.ylabel('Temperature (K)')\n",
    "plt.title('Temperature Distribution Over Time')\n",
    "plt.legend()\n",
    "plt.show()"
   ]
  },
  {
   "cell_type": "code",
   "execution_count": 6,
   "metadata": {},
   "outputs": [
    {
     "name": "stdout",
     "output_type": "stream",
     "text": [
      "(35803, 50)\n",
      "35802\n",
      "Simulation complete @ time:  45.509313768600656\n",
      "45.509313768600656\n"
     ]
    }
   ],
   "source": [
    "length = 15e-3\n",
    "m = sim1d(rho_l=2460.0,rho_s=2710.0,k_l=104.0,k_s=96.2,cp_l=1245.3,cp_s=963.0,L_fusion=389.3e3,temp_init=919.0, t_surr=573.0,htc=10)\n",
    "print(m[0])"
   ]
  },
  {
   "cell_type": "code",
   "execution_count": 8,
   "metadata": {},
   "outputs": [
    {
     "name": "stdout",
     "output_type": "stream",
     "text": [
      "(35803, 50)\n",
      "35802\n",
      "Simulation complete @ time:  45.509313768600656\n",
      "3.6320964957834567\n"
     ]
    }
   ],
   "source": [
    "kk = sim1d(rho_l=2460.0,rho_s=2710.0,k_l=104.0,k_s=96.2,cp_l=1245.3,cp_s=963.0,L_fusion=389.3e3,temp_init=919.0, t_surr=573.0,htc=10)\n",
    "print(kk[3])"
   ]
  }
 ],
 "metadata": {
  "kernelspec": {
   "display_name": "pytorch-env",
   "language": "python",
   "name": "python3"
  },
  "language_info": {
   "codemirror_mode": {
    "name": "ipython",
    "version": 3
   },
   "file_extension": ".py",
   "mimetype": "text/x-python",
   "name": "python",
   "nbconvert_exporter": "python",
   "pygments_lexer": "ipython3",
   "version": "3.11.9"
  }
 },
 "nbformat": 4,
 "nbformat_minor": 2
}

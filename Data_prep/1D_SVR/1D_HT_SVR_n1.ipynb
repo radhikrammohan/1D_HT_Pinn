{
 "cells": [
  {
   "cell_type": "markdown",
   "metadata": {},
   "source": [
    "Import Libraries"
   ]
  },
  {
   "cell_type": "code",
   "execution_count": 4,
   "metadata": {},
   "outputs": [],
   "source": [
    "import sys\n",
    "import numpy as np\n",
    "import matplotlib.pyplot as plt\n",
    "from matplotlib.animation import FuncAnimation\n",
    "import csv\n",
    "from sklearn import svm\n",
    "import pandas as pd\n",
    "import itertools\n",
    "from sklearn.metrics import mean_squared_error\n",
    "from sklearn.model_selection import train_test_split\n"
   ]
  },
  {
   "cell_type": "markdown",
   "metadata": {},
   "source": [
    "Define the constants and initial conditions"
   ]
  },
  {
   "cell_type": "code",
   "execution_count": 5,
   "metadata": {},
   "outputs": [
    {
     "name": "stdout",
     "output_type": "stream",
     "text": [
      "dx is 0.0010204081632653062\n",
      "cfl is 0.012694825168412246\n",
      "stability criteria satisfied\n"
     ]
    }
   ],
   "source": [
    "length = 5e-2             # Length of the rod - 1cm \n",
    "\n",
    "\n",
    "# Material properties\n",
    "\n",
    "rho_l = 2760.0                # Density of Aluminium (kg/m^3) in liquid state\n",
    "rho_m = 2760.0                # Density of Aluminium (kg/m^3) in mushy state\n",
    "rho_s = 2760.0               # Density of Aluminium (kg/m^3) in solid state\n",
    "k_m =     109.0                 # W/m-K Thermal Conductivity inMushy zone\n",
    "k_l =     109.0                   # W/m-K Thermal Conductivity in Liquid zone\n",
    "k_s =     109.0                  # W/m-K Thermal Conductivity in Solid zone\n",
    "cp_m =     963.0                  # Specific heat of aluminum (J/kg-K) in mushy zone\n",
    "cp_l =    963.0                   # Specific heat of aluminum (J/kg-K) in liquid zone\n",
    "cp_s =      963.0                  # Specific heat of aluminum (J/kg-K)  in solid zone\n",
    "alpha_m = k_m / (rho_m * cp_m)            # Thermal diffusivity \n",
    "alpha_l = k_l / (rho_l * cp_l)    # Thermal diffusivity of liquid phase\n",
    "alpha_s = k_s / (rho_s * cp_s)    # Thermal diffusivity of solid phase\n",
    "# print(alpha_m)\n",
    "# print(alpha_l)\n",
    "# print(alpha_s)\n",
    "#L_fusion = 3.9e3                 # J/kg\n",
    "L_fusion = 389.0e3             # J/kg\n",
    "\n",
    "\n",
    "# Initial and boundary Conditions\n",
    "T_L = 866.0                       #  K -Liquidus Temperature (593 c)\n",
    "T_S = 811.0                       # K- Solidus Temperature (538 C)\n",
    "\n",
    "\n",
    "\n",
    "# Spatial discretization\n",
    "num_points = 50               # Number of spatial points\n",
    "dx = length / (num_points - 1)\n",
    "print('dx is',dx)\n",
    "\n",
    "                                                              \n",
    "# Time Discretization  \n",
    "time_end = 600             # seconds                         \n",
    "\n",
    "\n",
    "# cr1  = (np.max([alpha_l,alpha_m, (k_m/rho_m*(cp_m-(L_frz/(T_L-T_S))))]))\n",
    "cr2 = alpha_l\n",
    "#print('cr1 is',cr1)\n",
    "dt = abs(0.5 *(dx**2/cr2))\n",
    "num_steps = round(time_end/dt) +1\n",
    "#print('dt is ',dt)\n",
    "#num_steps = 1000\n",
    "#dt = time_end/num_steps\n",
    "# print('num_steps is',num_steps)\n",
    "\n",
    "\n",
    "cfl = abs(0.5 *(dx**2/cr2))\n",
    "print('cfl is',cfl)\n",
    "#dt = time_end / num_steps\n",
    "time_steps = np.linspace(0, time_end, num_steps + 1)\n",
    "\n",
    "if dt <= cfl:\n",
    "    print('stability criteria satisfied')\n",
    "else:\n",
    "    print('stability criteria not satisfied')\n",
    "    sys.exit()"
   ]
  },
  {
   "cell_type": "markdown",
   "metadata": {},
   "source": [
    "Defining the simulation field and initilisation of the temperatures"
   ]
  },
  {
   "cell_type": "code",
   "execution_count": 6,
   "metadata": {},
   "outputs": [],
   "source": [
    "# Initial temperature and phase fields\n",
    "temperature = np.full(num_points, 870.0)\n",
    "phase = np.zeros(num_points)*1.0\n",
    "\n",
    "# Set boundary conditions\n",
    "temperature[-1] = 313.0 #(40 C)\n",
    "phase[-1] = 1\n",
    "\n",
    "temperature[0] = 313.0 #(40 C)\n",
    "phase[0] = 1\n",
    "\n",
    "\n",
    "# Store initial state in history\n",
    "temperature_history = [temperature.copy()]\n",
    "phi_history = [phase.copy()]\n",
    "\n",
    "#print(temperature_history,phi_history)"
   ]
  },
  {
   "cell_type": "markdown",
   "metadata": {},
   "source": [
    "Solving the heat transfer equation and phase change using numerical methods"
   ]
  },
  {
   "cell_type": "code",
   "execution_count": 7,
   "metadata": {},
   "outputs": [],
   "source": [
    "for m in range(1, num_steps+1):                  # time loop\n",
    "        for n in range(1,num_points-1):              # space loop, adjusted range\n",
    "        #print(f\"Step {m}, point {n},Temperature: {temperature}, Phase: {phase}\")\n",
    "            if temperature[n] >= T_L:\n",
    "                temperature[n] = temperature[n] + ((alpha_l * dt )/ dx**2) * (temperature[n+1] - 2.0 * temperature[n] + temperature[n-1])\n",
    "                phase[n] = 0\n",
    "         \n",
    "                #print(m,n,temperature[n],phase[n])\n",
    "            elif T_S < temperature[n] < T_L:\n",
    "            #temperature[n] = temperature[n] - (((k * dt) / (rho*(T_L-T_S)*(cp*(T_L-T_S)-L_fusion)*(dx**2))) * (temperature[n+1] - 2 * temperature[n] + temperature[n-1]))\n",
    "                temperature[n] = temperature[n] - ((k_m/(rho_m*(cp_m-(L_fusion/(T_L-T_S)))))* (temperature[n+1] - 2 * temperature[n] + temperature[n-1]))\n",
    "                phase[n] = (T_L - temperature[n]) / (T_L - T_S)\n",
    "            #print(m,n,temperature[n],phase[n])\n",
    "         \n",
    "            elif temperature[n]<T_S:\n",
    "                temperature[n] = temperature[n] + ((alpha_s * dt )/ dx**2) * (temperature[n+1] - 2.0 * temperature[n] + temperature[n-1])\n",
    "                phase[n] = 1\n",
    "            \n",
    "            else:\n",
    "                print(\"ERROR: should not be here\")\n",
    "         \n",
    "           # print(m,n,temperature[n],phase[n])\n",
    "    \n",
    "        temperature_history.append(temperature.copy())\n",
    "        phi_history.append(phase.copy())"
   ]
  },
  {
   "cell_type": "markdown",
   "metadata": {},
   "source": [
    "# Finite difference method\n",
    "\n",
    "for m in range(1, num_steps+1):                  # time loop\n",
    "                # space loop, adjusted range\n",
    "        \n",
    "    temp_n = temperature[1:num_points-1]\n",
    "    #print('temp_n is',temp_n)\n",
    "    c1_val = np.maximum(temp_n - T_L,0) / np.where(temp_n- T_L!=0, temp_n - T_L, 1)\n",
    "    c1_val = np.where(c1_val == 0, 0, c1_val)\n",
    "    #print('c1_val is',c1_val)   \n",
    "    c2_val = np.maximum(T_S - temp_n,0) / np.where(T_S - temp_n!=0, T_S - temp_n, 1)\n",
    "    c2_val = np.where(c2_val == 0, 0, c2_val)\n",
    "    #print('c2_val is',c2_val)\n",
    "    c3_val = (1-c1_val)*(1-c2_val)\n",
    "    c3_val = np.where(c3_val == 0, 0, c3_val)\n",
    "    #print('c3_val is',c3_val) \n",
    "    #d2T_dx2 = (temperature[2:num_points] - 2*temp_n + temperature[0:num_points-2]) / dx**2\n",
    "    phu = (c1_val*alpha_l)+(c2_val*alpha_s)+(c3_val*(k_m/(rho_m*(cp_m-(L_frz/(T_L-T_S))))))\n",
    "    temperature[1:num_points-1] += phu * (dt / dx**2)* (temperature[2:num_points] - 2*temp_n + temperature[0:num_points-2]) \n",
    "    phase[1:num_points-1] = np.clip((T_L - temp_n)/(T_L-T_S),0,1)\n",
    "    \n",
    "    #print(f\" time{m},Temperature: {temperature}, \")\n",
    "    temperature_history.append(np.round(temperature.copy(),3))\n",
    "    phi_history.append(np.round(phase.copy(),3))\n",
    "    #Print for debugging\n",
    "    \n",
    "\n",
    "\n",
    "#print(temperature_history)\n",
    "#print(phi_history)\n",
    "\n",
    "\n",
    "# there is an error in this code and it is due to the constants mismatch  and not a calcualtion error"
   ]
  },
  {
   "cell_type": "markdown",
   "metadata": {},
   "source": [
    "Plot the Results"
   ]
  },
  {
   "cell_type": "code",
   "execution_count": 29,
   "metadata": {},
   "outputs": [
    {
     "name": "stdout",
     "output_type": "stream",
     "text": [
      "Temperature History Shape: (47265, 50)\n",
      "Phi History Shape: (47265, 50)\n",
      "Transposed Temperature History Shape: (47265, 50)\n",
      "Transposed Phi History Shape: (47265, 50)\n"
     ]
    },
    {
     "data": {
      "image/png": "[encoded data removed]",
      "text/plain": [
       "<Figure size 1400x600 with 4 Axes>"
      ]
     },
     "metadata": {},
     "output_type": "display_data"
    }
   ],
   "source": [
    "# Assuming you have temperature_history and phi_history as lists of arrays\n",
    "temperature_history = np.array(temperature_history)\n",
    "phi_history = np.array(phi_history)\n",
    "\n",
    "# Check the shape of temperature_history and phi_history\n",
    "print(\"Temperature History Shape:\", temperature_history.shape)\n",
    "print(\"Phi History Shape:\", phi_history.shape)\n",
    "\n",
    "# Check the new shape after transposing\n",
    "print(\"Transposed Temperature History Shape:\", temperature_history.shape)\n",
    "print(\"Transposed Phi History Shape:\", phi_history.shape)\n",
    "\n",
    "# Create a meshgrid for space and time coordinates\n",
    "space_coord, time_coord = np.meshgrid(np.arange(temperature_history.shape[1]), np.arange(temperature_history.shape[0]))\n",
    "time_coord = time_coord * dt\n",
    "# Create a figure with two subplots\n",
    "fig, (ax1, ax2) = plt.subplots(1, 2, figsize=(14, 6))\n",
    "\n",
    "# Plot the temperature history on the left subplot\n",
    "im1 = ax1.pcolormesh(space_coord, time_coord, temperature_history, cmap='viridis')\n",
    "ax1.set_xlabel('Space Coordinate')\n",
    "ax1.set_ylabel('Time')\n",
    "ax1.set_title('Temperature Variation Over Time')\n",
    "fig.colorbar(im1, ax=ax1, label='Temperature')\n",
    "\n",
    "# Plot the phase history on the right subplot\n",
    "im2 = ax2.pcolormesh(space_coord, time_coord, phi_history, cmap='viridis')\n",
    "ax2.set_xlabel('Space Coordinate')\n",
    "ax2.set_ylabel('Time')\n",
    "ax2.set_title('Phase Variation Over Time')\n",
    "fig.colorbar(im2, ax=ax2, label='Phase')\n",
    "plt.tight_layout()\n",
    "plt.show()"
   ]
  },
  {
   "cell_type": "code",
   "execution_count": null,
   "metadata": {},
   "outputs": [],
   "source": []
  }
 ],
 "metadata": {
  "kernelspec": {
   "display_name": "pytorch-env",
   "language": "python",
   "name": "python3"
  },
  "language_info": {
   "codemirror_mode": {
    "name": "ipython",
    "version": 3
   },
   "file_extension": ".py",
   "mimetype": "text/x-python",
   "name": "python",
   "nbconvert_exporter": "python",
   "pygments_lexer": "ipython3",
   "version": "3.11.9"
  }
 },
 "nbformat": 4,
 "nbformat_minor": 2
}

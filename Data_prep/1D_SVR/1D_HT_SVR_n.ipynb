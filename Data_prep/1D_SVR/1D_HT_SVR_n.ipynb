{
 "cells": [
  {
   "cell_type": "markdown",
   "metadata": {},
   "source": [
    "Import Libraries"
   ]
  },
  {
   "cell_type": "code",
   "execution_count": 104,
   "metadata": {},
   "outputs": [],
   "source": [
    "import sys\n",
    "import numpy as np\n",
    "import matplotlib.pyplot as plt\n",
    "from matplotlib.animation import FuncAnimation\n",
    "import csv\n",
    "from sklearn import svm\n",
    "import pandas as pd\n",
    "import itertools\n",
    "from sklearn.metrics import mean_squared_error\n",
    "from sklearn.model_selection import train_test_split\n"
   ]
  },
  {
   "cell_type": "markdown",
   "metadata": {},
   "source": [
    "Define the constants and initial conditions"
   ]
  },
  {
   "cell_type": "code",
   "execution_count": 105,
   "metadata": {},
   "outputs": [
    {
     "name": "stdout",
     "output_type": "stream",
     "text": [
      "0.00020408163265306123\n",
      "num_steps is 1890535\n",
      "dt is  5.0779300673648986e-05\n",
      "cfl is 5.0779300673648986e-05\n",
      "stability criteria satisfied\n"
     ]
    }
   ],
   "source": [
    "length = 1e-2                     # Length of the rod\n",
    "\n",
    "\n",
    "# Material properties\n",
    "rho = 2760.0                      # Density of AL380 (kg/m^3)\n",
    "k = 1090                          # W/m-K\n",
    "cp = 963.0                        # Specific heat of aluminum (J/kg-K)\n",
    "alpha = k / (rho * cp)            # Thermal diffusivity\n",
    "#print(alpha)\n",
    "#L_fusion = 3.9e3                 # J/kg\n",
    "L_fusion = 389e3               # J/kg\n",
    "\n",
    "\n",
    "# Initial Conditions\n",
    "T_L = 866.0                       #  K -Liquidus Temperature (593 c)\n",
    "T_S = 811.0                       # K- Solidus Temperature (538 C)\n",
    "\n",
    "\n",
    "\n",
    "# Spatial discretisation\n",
    "\n",
    "\n",
    "num_points = 50                  # Number of spatial points\n",
    "dx = length / (num_points - 1)\n",
    "print(dx)\n",
    "                                   #dt = time_end/num_steps\n",
    "#num_steps = 200000               # Number of time steps\n",
    "                                  # num_steps = round(time_end/dt)\n",
    "                                                              \n",
    "# Time Discretization  \n",
    "time_end = 96                 # seconds                         \n",
    "num_steps = 10000\n",
    "# dt = time_end/num_steps\n",
    "\n",
    "dt = abs(0.5 *(dx**2/alpha))\n",
    "num_steps = round(time_end/dt) +1\n",
    "print('num_steps is',num_steps)\n",
    "print('dt is ',dt)\n",
    "\n",
    "cfl = 0.5 *(dx**2/alpha)\n",
    "print('cfl is',cfl)\n",
    "dt = time_end / num_steps\n",
    "time_steps = np.linspace(0, time_end, num_steps + 1)\n",
    "\n",
    "if dt <= cfl:\n",
    "    print('stability criteria satisfied')\n",
    "else:\n",
    "    print('stability criteria not satisfied')\n",
    "    sys.exit()"
   ]
  },
  {
   "cell_type": "markdown",
   "metadata": {},
   "source": [
    "Defining the simulation field and initilisation of the temperatures"
   ]
  },
  {
   "cell_type": "code",
   "execution_count": 106,
   "metadata": {},
   "outputs": [],
   "source": [
    "# Initial temperature and phase fields\n",
    "temperature = np.full(num_points, 870.0)\n",
    "phase = np.zeros(num_points)*1.0\n",
    "\n",
    "# Set boundary conditions\n",
    "temperature[-1] = 313.0 #(40 C)\n",
    "phase[-1] = 1.0\n",
    "\n",
    "temperature[0] = 313.0 #(40 C)\n",
    "phase[0] = 1.0\n",
    "\n",
    "# Store initial state in history\n",
    "temperature_history = [temperature.copy()]\n",
    "phi_history = [phase.copy()]\n",
    "\n",
    "#print(temperature_history,phi_history)"
   ]
  },
  {
   "cell_type": "markdown",
   "metadata": {},
   "source": [
    "Solving the heat transfer equation and phase change using numerical methods"
   ]
  },
  {
   "cell_type": "code",
   "execution_count": 107,
   "metadata": {},
   "outputs": [],
   "source": [
    "# Finite difference method\n",
    "\n",
    "for m in range(1, num_steps+1):                  # time loop\n",
    "    for n in range(1,num_points-1):              # space loop, adjusted range\n",
    "        #print(f\"Step {m}, point {n},Temperature: {temperature}, Phase: {phase}\")\n",
    "        if temperature[n] >= T_L:\n",
    "            temperature[n] = temperature[n] + ((alpha * dt )/ dx**2) * (temperature[n+1] - 2.0 * temperature[n] + temperature[n-1])\n",
    "            phase[n] = 0\n",
    "         \n",
    "            #print(m,n,temperature[n],phase[n])\n",
    "        elif T_S < temperature[n] < T_L:\n",
    "            temperature[n] = temperature[n] - (((k * dt) / (rho*(T_L-T_S)*(cp*(T_L-T_S)-L_fusion)*(dx**2))) * (temperature[n+1] - 2 * temperature[n] + temperature[n-1]))\n",
    "            phase[n] = (T_L - temperature[n]) / (T_L - T_S)\n",
    "        #print(m,n,temperature[n],phase[n])\n",
    "         \n",
    "        elif temperature[n]<T_S:\n",
    "            temperature[n] = temperature[n] + ((alpha * dt )/ dx**2) * (temperature[n+1] - 2.0 * temperature[n] + temperature[n-1])\n",
    "            phase[n] = 1\n",
    "            \n",
    "        else:\n",
    "            print(\"ERROR: should not be here\")\n",
    "         \n",
    "           # print(m,n,temperature[n],phase[n])\n",
    "    \n",
    "    temperature_history.append(temperature.copy())\n",
    "    phi_history.append(phase.copy())\n",
    "    #Print for debugging\n",
    "    #print(f\"Step {m}, space{n},Temperature: {temperature}, Phase: {phase}\")\n",
    "\n",
    "\n",
    "#print(temperature_history)\n",
    "#print(phi_history)\n",
    "\n",
    "\n"
   ]
  },
  {
   "cell_type": "markdown",
   "metadata": {},
   "source": [
    "Plot the Results"
   ]
  },
  {
   "cell_type": "code",
   "execution_count": 108,
   "metadata": {},
   "outputs": [
    {
     "name": "stdout",
     "output_type": "stream",
     "text": [
      "Temperature History Shape: (1890536, 50)\n",
      "Phi History Shape: (1890536, 50)\n",
      "Transposed Temperature History Shape: (1890536, 50)\n",
      "Transposed Phi History Shape: (1890536, 50)\n"
     ]
    },
    {
     "ename": "NameError",
     "evalue": "name 'gitgit' is not defined",
     "output_type": "error",
     "traceback": [
      "\u001b[1;31m---------------------------------------------------------------------------\u001b[0m",
      "\u001b[1;31mNameError\u001b[0m                                 Traceback (most recent call last)",
      "Input \u001b[1;32mIn [108]\u001b[0m, in \u001b[0;36m<cell line: 37>\u001b[1;34m()\u001b[0m\n\u001b[0;32m     35\u001b[0m ax2\u001b[38;5;241m.\u001b[39mset_title(\u001b[38;5;124m'\u001b[39m\u001b[38;5;124mPhase Variation Over Time\u001b[39m\u001b[38;5;124m'\u001b[39m)\n\u001b[0;32m     36\u001b[0m fig\u001b[38;5;241m.\u001b[39mcolorbar(im2, ax\u001b[38;5;241m=\u001b[39max2, label\u001b[38;5;241m=\u001b[39m\u001b[38;5;124m'\u001b[39m\u001b[38;5;124mPhase\u001b[39m\u001b[38;5;124m'\u001b[39m)\n\u001b[1;32m---> 37\u001b[0m \u001b[43mgitgit\u001b[49m\n\u001b[0;32m     38\u001b[0m plt\u001b[38;5;241m.\u001b[39mtight_layout()\n\u001b[0;32m     39\u001b[0m plt\u001b[38;5;241m.\u001b[39mshow()\n",
      "\u001b[1;31mNameError\u001b[0m: name 'gitgit' is not defined"
     ]
    },
    {
     "data": {
      "image/png": "[encoded data removed]",
      "text/plain": [
       "<Figure size 1008x432 with 4 Axes>"
      ]
     },
     "metadata": {
      "needs_background": "light"
     },
     "output_type": "display_data"
    }
   ],
   "source": [
    "# Assuming you have temperature_history and phi_history as lists of arrays\n",
    "temperature_history = np.array(temperature_history)\n",
    "phi_history = np.array(phi_history)\n",
    "\n",
    "# Check the shape of temperature_history and phi_history\n",
    "print(\"Temperature History Shape:\", temperature_history.shape)\n",
    "print(\"Phi History Shape:\", phi_history.shape)\n",
    "\n",
    "# Assuming temperature_history and phi_history have dimensions (time, space)\n",
    "# # If needed, transpose the arrays to match the expected dimensions of pcolormesh\n",
    "# temperature_history = temperature_history.T\n",
    "# phi_history = phi_history.T\n",
    "\n",
    "# Check the new shape after transposing\n",
    "print(\"Transposed Temperature History Shape:\", temperature_history.shape)\n",
    "print(\"Transposed Phi History Shape:\", phi_history.shape)\n",
    "\n",
    "# Create a meshgrid for space and time coordinates\n",
    "space_coord, time_coord = np.meshgrid(np.arange(temperature_history.shape[1]), np.arange(temperature_history.shape[0]))\n",
    "\n",
    "# Create a figure with two subplots\n",
    "fig, (ax1, ax2) = plt.subplots(1, 2, figsize=(14, 6))\n",
    "\n",
    "# Plot the temperature history on the left subplot\n",
    "im1 = ax1.pcolormesh(space_coord, time_coord, temperature_history, cmap='viridis')\n",
    "ax1.set_xlabel('Space Coordinate')\n",
    "ax1.set_ylabel('Time')\n",
    "ax1.set_title('Temperature Variation Over Time')\n",
    "fig.colorbar(im1, ax=ax1, label='Temperature')\n",
    "\n",
    "# Plot the phase history on the right subplot\n",
    "im2 = ax2.pcolormesh(space_coord, time_coord, phi_history, cmap='viridis')\n",
    "ax2.set_xlabel('Space Coordinate')\n",
    "ax2.set_ylabel('Time')\n",
    "ax2.set_title('Phase Variation Over Time')\n",
    "fig.colorbar(im2, ax=ax2, label='Phase')\n",
    "gitgit\n",
    "plt.tight_layout()\n",
    "plt.show()"
   ]
  }
 ],
 "metadata": {
  "kernelspec": {
   "display_name": "base",
   "language": "python",
   "name": "python3"
  },
  "language_info": {
   "codemirror_mode": {
    "name": "ipython",
    "version": 3
   },
   "file_extension": ".py",
   "mimetype": "text/x-python",
   "name": "python",
   "nbconvert_exporter": "python",
   "pygments_lexer": "ipython3",
   "version": "3.9.12"
  }
 },
 "nbformat": 4,
 "nbformat_minor": 2
}

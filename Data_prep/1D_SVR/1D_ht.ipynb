{
 "cells": [
  {
   "cell_type": "code",
   "execution_count": 248,
   "metadata": {},
   "outputs": [],
   "source": [
    "#This is the code for the 1D heat transfer problem. The code is written in python and is based on the finite difference method. The code is written in a way that it can be easily modified to solve other 1D heat transfer problems.\n",
    "    "
   ]
  },
  {
   "cell_type": "code",
   "execution_count": 249,
   "metadata": {},
   "outputs": [],
   "source": [
    "import numpy as np # import numpy library as np\n",
    "import matplotlib.pyplot as plt  # import matplotlib.pyplot library as plt\n",
    "import csv # import csv module"
   ]
  },
  {
   "cell_type": "markdown",
   "metadata": {},
   "source": [
    "Initialise the parameters"
   ]
  },
  {
   "cell_type": "code",
   "execution_count": 250,
   "metadata": {},
   "outputs": [],
   "source": [
    "# Parameters\n",
    "alpha = 0.5  # Thermal diffusivity\n",
    "length = 1.0  # Length of the rod\n",
    "time_end = 1  # End time\n",
    "num_points = 30  # Number of spatial points\n",
    "num_steps = 1000  # Number of time steps"
   ]
  },
  {
   "cell_type": "markdown",
   "metadata": {},
   "source": [
    "#Grid space and time step"
   ]
  },
  {
   "cell_type": "code",
   "execution_count": 251,
   "metadata": {},
   "outputs": [
    {
     "name": "stdout",
     "output_type": "stream",
     "text": [
      "0.001\n"
     ]
    }
   ],
   "source": [
    "# Spatial and time step sizes\n",
    "dx = length / (num_points - 1) # Grid spacing\n",
    "dt = time_end / num_steps # Time step size\n",
    "print(dt)"
   ]
  },
  {
   "cell_type": "markdown",
   "metadata": {},
   "source": [
    "#Inital condition"
   ]
  },
  {
   "cell_type": "code",
   "execution_count": 252,
   "metadata": {},
   "outputs": [
    {
     "name": "stdout",
     "output_type": "stream",
     "text": [
      "[0. 0. 0. 0. 0. 0. 0. 0. 0. 0. 0. 0. 0. 0. 0. 0. 0. 0. 0. 0. 0. 0. 0. 0.\n",
      " 0. 0. 0. 0. 0. 0.]\n"
     ]
    }
   ],
   "source": [
    "# Initial condition\n",
    "initial_temperature = np.zeros(num_points) # Initialize temperature array with zeros\n",
    "print(initial_temperature)"
   ]
  },
  {
   "cell_type": "code",
   "execution_count": 253,
   "metadata": {},
   "outputs": [
    {
     "name": "stdout",
     "output_type": "stream",
     "text": [
      "[100. 100. 100. 100. 100. 100. 100. 100. 100. 100. 100. 100. 100. 100.\n",
      " 100. 100. 100. 100. 100. 100. 100. 100. 100. 100. 100. 100. 100. 100.\n",
      " 100. 600.]\n"
     ]
    }
   ],
   "source": [
    "\n",
    "# Set one end at 25 degrees and the other end at 600 degrees\n",
    "initial_temperature[0:num_points-1] = 100.0  # Set the first element (one end) to 25 degrees\n",
    "initial_temperature[-1] = 600.0  # Set the last element (other end) to 600 degrees\n",
    "\n",
    "# Initialize temperature array\n",
    "temperature = initial_temperature.copy() # Copy initial_temperature to temperature\n",
    "temperature = temperature.astype(np.float64)\n",
    "print(temperature)"
   ]
  },
  {
   "cell_type": "markdown",
   "metadata": {},
   "source": [
    "#Finite Difference method"
   ]
  },
  {
   "cell_type": "code",
   "execution_count": 254,
   "metadata": {},
   "outputs": [
    {
     "name": "stdout",
     "output_type": "stream",
     "text": [
      "[100.         116.99592554 133.9947288  150.99925376 168.01227732\n",
      " 185.03647673 202.07439823 219.12842718 236.20076009 253.29337887\n",
      " 270.4080276  287.54619209 304.70908243 321.89761885 339.11242087\n",
      " 356.3538001  373.62175654 390.9159786  408.23584674 425.58044077\n",
      " 442.94855058 460.33869038 477.74911608 495.17784578 512.62268296\n",
      " 530.08124226 547.55097745 565.02921125 582.51316676 600.        ]\n"
     ]
    }
   ],
   "source": [
    "# Finite difference method\n",
    "for n in range(1, num_steps + 1):# Loop through time steps\n",
    "    # Compute new temperature values using finite difference\n",
    "    temperature[1:-1] = (temperature[1:-1] + alpha * (dt / dx**2) * (temperature[2:] - 2 * temperature[1:-1] + temperature[:-2])  )\n",
    "    \n",
    "\n",
    "\n",
    "print(temperature)"
   ]
  },
  {
   "cell_type": "markdown",
   "metadata": {},
   "source": [
    "#Plotting of the results"
   ]
  },
  {
   "cell_type": "code",
   "execution_count": 255,
   "metadata": {},
   "outputs": [
    {
     "data": {
      "image/png": "[encoded data removed]",
      "text/plain": [
       "<Figure size 432x288 with 1 Axes>"
      ]
     },
     "metadata": {
      "needs_background": "light"
     },
     "output_type": "display_data"
    }
   ],
   "source": [
    "# Plot the results\n",
    "plt.plot(np.linspace(0, length, num_points), temperature)\n",
    "plt.xlabel('Spatial Coordinate (x)')\n",
    "plt.ylabel('Temperature (T)')\n",
    "plt.title('1D Heat Transfer')\n",
    "plt.show()"
   ]
  },
  {
   "cell_type": "markdown",
   "metadata": {},
   "source": [
    "#Save Data to CSV file"
   ]
  },
  {
   "cell_type": "code",
   "execution_count": 256,
   "metadata": {},
   "outputs": [
    {
     "name": "stdout",
     "output_type": "stream",
     "text": [
      "Data saved to heat_transfer_data.csv\n"
     ]
    }
   ],
   "source": [
    "# Save data to CSV file\n",
    "data = np.column_stack((np.linspace(0, length, num_points), temperature))\n",
    "csv_filename = 'heat_transfer_data.csv'\n",
    "\n",
    "with open(csv_filename, 'w', newline='') as csvfile:\n",
    "    csv_writer = csv.writer(csvfile)\n",
    "    csv_writer.writerow(['Spatial Coordinate (x)', 'Temperature (T)'])\n",
    "    csv_writer.writerows(data)\n",
    "\n",
    "print(f'Data saved to {csv_filename}')"
   ]
  }
 ],
 "metadata": {
  "kernelspec": {
   "display_name": "Python 3",
   "language": "python",
   "name": "python3"
  }
 },
 "nbformat": 4,
 "nbformat_minor": 2
}

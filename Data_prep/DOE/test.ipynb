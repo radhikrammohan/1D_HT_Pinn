{
 "cells": [
  {
   "cell_type": "code",
   "execution_count": 4,
   "metadata": {},
   "outputs": [],
   "source": [
    "import sys\n",
    "import math\n",
    "import numpy as np\n",
    "import matplotlib.pyplot as plt\n",
    "from matplotlib.animation import FuncAnimation\n",
    "import csv\n",
    "\n",
    "from sklearn import svm\n",
    "import pandas as pd\n",
    "import itertools\n",
    "from ht_simNy import sim1d\n"
   ]
  },
  {
   "cell_type": "code",
   "execution_count": 5,
   "metadata": {},
   "outputs": [],
   "source": [
    "kk = sim1d(rho_l=2460.0,rho_s=2710.0,k_l=104.0,k_s=96.2,cp_l=1245.3,cp_s=963.0,L_fusion=389.3e3,temp_init=919.0, t_surr=573.0,htc=10)\n",
    "\n",
    "temperature_history = kk[1]\n",
    "phase_history = kk[2]   "
   ]
  },
  {
   "cell_type": "code",
   "execution_count": 6,
   "metadata": {},
   "outputs": [],
   "source": [
    "df1 =pd.DataFrame(temperature_history)\n",
    "df2 =pd.DataFrame(phase_history)\n",
    "\n",
    "filename ='temp-phase.xlsx'\n",
    "\n",
    "with pd.ExcelWriter(filename, engine='openpyxl') as writer:\n",
    "    df1.to_excel(writer, sheet_name='temp')\n",
    "    df2.to_excel(writer, sheet_name='phase')\n",
    "\n"
   ]
  },
  {
   "cell_type": "code",
   "execution_count": 11,
   "metadata": {},
   "outputs": [],
   "source": [
    "temp_data = np.array(temperature_history)\n",
    "time_steps, spatial_points = temp_data.shape\n",
    "for_ML = {\n",
    "    'x': np.repeat(np.arange(spatial_points),time_steps),\n",
    "    'y': np.tile(np.arange(time_steps), spatial_points),\n",
    "    'temperature': temp_data.flatten(),\n",
    "}\n",
    "\n",
    "df3=pd.DataFrame(for_ML)\n",
    "\n",
    "filename2 ='temp-phase-ML.xlsx'\n",
    "df3.to_csv(filename2,index =False)"
   ]
  }
 ],
 "metadata": {
  "kernelspec": {
   "display_name": "pytorch-env",
   "language": "python",
   "name": "python3"
  },
  "language_info": {
   "codemirror_mode": {
    "name": "ipython",
    "version": 3
   },
   "file_extension": ".py",
   "mimetype": "text/x-python",
   "name": "python",
   "nbconvert_exporter": "python",
   "pygments_lexer": "ipython3",
   "version": "3.11.9"
  }
 },
 "nbformat": 4,
 "nbformat_minor": 2
}

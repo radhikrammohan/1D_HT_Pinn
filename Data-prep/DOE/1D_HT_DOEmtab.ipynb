{
 "cells": [
  {
   "cell_type": "markdown",
   "metadata": {},
   "source": [
    "# 1D Three Phase Simulation of Alloys and PINN model development \n"
   ]
  },
  {
   "cell_type": "markdown",
   "metadata": {},
   "source": [
    "This notebook contains the simulation of 1D Phase change of aluminium alloy. There will be three phases (solid,liquid and mushy).   \n",
    "\n",
    "The approach used is finite difference method and the physics involved in heat conduction."
   ]
  },
  {
   "cell_type": "markdown",
   "metadata": {},
   "source": [
    "## Import Libraries"
   ]
  },
  {
   "cell_type": "code",
   "execution_count": 2,
   "metadata": {},
   "outputs": [],
   "source": [
    "import sys\n",
    "import math\n",
    "import numpy as np\n",
    "import matplotlib.pyplot as plt\n",
    "from matplotlib.animation import FuncAnimation\n",
    "import csv\n",
    "from sklearn import svm\n",
    "import pandas as pd\n",
    "import itertools\n",
    "\n",
    "import mqr\n",
    "from mqr.plot import Figure\n",
    "from mqr.nbtools import hstack, vstack, grab_figure\n",
    "\n",
    "from mqr.doe import Design\n",
    "\n",
    "from ht_simNy import sim1d\n",
    "\n",
    "\n",
    "\n",
    "from pyDOE2 import fullfact\n",
    "from pyDOE2 import fracfact\n",
    "\n",
    "import statsmodels.api as sm\n",
    "\n",
    "from statsmodels.formula.api import ols\n",
    "from scipy.stats import ttest_ind\n",
    "import seaborn as sns\n",
    "from scipy import stats\n"
   ]
  },
  {
   "cell_type": "markdown",
   "metadata": {},
   "source": [
    "### <center>Pareto analysis</center>"
   ]
  },
  {
   "cell_type": "markdown",
   "metadata": {},
   "source": [
    "<p style=\"font-size:12px; font-family:'Times New Roman', sans-serif; line-height:1.6;\">\n",
    "\n",
    "In this section sensitivity study of the soldification is performed with respect to different material properties and  initial/boundary conditions. The soldification time is the variable under study and it is calcualted based on solution of 1D heat transfer and phase change equation.\n",
    "\n",
    "\n",
    "\n",
    "Here the parameters/factors are as follows:-\n",
    "\n",
    "1. Density for material in liquid state $\\rho_l$.<br>\n",
    "2. Density for material in solid state $\\rho_s$.<br>\n",
    "3. Latent Heat of Fusion <br>\n",
    "4. Specific heat of material in liquid state $C_{pl}$ <br>\n",
    "5. Specific heat of material in solid state $C_{ps}$ <br>\n",
    "6. Thermal Conductivity of material in liquid state $k_l$<br>\n",
    "7. Thermal Conductivity of material in solid state $k_s$ <br>\n",
    "\n",
    "\n",
    "Boundary conditions:-\n",
    "8. Surrounding Temperature <br>\n",
    "\n",
    "Initial Conditions:-\n",
    "\n",
    "9. Initial_temperature <br>\n",
    "\n",
    "\n",
    "</p>\n",
    "\n",
    "\n"
   ]
  },
  {
   "cell_type": "markdown",
   "metadata": {},
   "source": [
    "The number of runs are large so a fractional factorial design is adopted."
   ]
  },
  {
   "cell_type": "markdown",
   "metadata": {},
   "source": [
    "## Fractional Factorial Design"
   ]
  },
  {
   "cell_type": "code",
   "execution_count": 4,
   "metadata": {},
   "outputs": [
    {
     "name": "stdout",
     "output_type": "stream",
     "text": [
      "[[-1. -1. -1. ... -1. -1. -1.]\n",
      " [ 1. -1. -1. ...  1. -1. -1.]\n",
      " [-1.  1. -1. ... -1.  1. -1.]\n",
      " ...\n",
      " [ 1. -1.  1. ...  1. -1.  1.]\n",
      " [-1.  1.  1. ... -1.  1.  1.]\n",
      " [ 1.  1.  1. ...  1.  1.  1.]]\n"
     ]
    }
   ],
   "source": [
    "#Create a fractional factorial design\n",
    "\n",
    "from pyDOE2 import fracfact\n",
    "\n",
    "num_levels = 2\n",
    "levels = [0, 1]\n",
    "num_vars = 11\n",
    "design2 = fracfact('a b c d e f g abc abd ace bcf cde')\n",
    "L_level = 0.99\n",
    "R_level = 1.01\n",
    "perc_change = [0.03, 0.03, 0.03, 0.03, 0.03, 0.03, 0.3, 0.03, 0.60, 0.30,0.30]\n",
    "\n",
    "\n",
    "factor_levels = {\n",
    "    'rho_l': [2386.20, 2533.8], #A\n",
    "    'rho_s': [2628.70, 2791.3], #B\n",
    "    'k_l': [100.88, 107.2],    #C\n",
    "    'k_s': [93.31,99.08],      #D\n",
    "    'cp_l': [1207.94, 1282.65], #E\n",
    "    'cp_s': [934.11, 991.89],  #F\n",
    "    'Surr_temp': [285.0,298.0], #G\n",
    "    'L_fusion': [377330,400670], #H\n",
    "    'temp_init': [901.0, 925.0], # J\n",
    "    'heat_transfer_coefficient_left': [10.0, 15.0], #K\n",
    "    'heat_transfer_coefficient_right': [10.0, 15.0], #L\n",
    "    'Length': [10.0e-3, 20.0e-3],      #M\n",
    "}\n",
    "\n",
    "\n",
    "factor_names = list(factor_levels.keys())\n",
    "# print (313.0 *(1+perc_change[6]))\n",
    "# Create a DataFrame from the fractional factorial design\n",
    "doe_df_sol_time_fracfact = pd.DataFrame(design2, columns=factor_names)\n",
    "\n",
    "for factor, levels in factor_levels.items():\n",
    "    doe_df_sol_time_fracfact[factor] = doe_df_sol_time_fracfact[factor].map({-1: levels[0], 1: levels[1]})\n",
    "   \n",
    "    \n",
    "print(design2)"
   ]
  },
  {
   "cell_type": "code",
   "execution_count": null,
   "metadata": {},
   "outputs": [],
   "source": [
    "# import csv file\n",
    "\n",
    "des3 = pd.read_csv(cp)"
   ]
  }
 ],
 "metadata": {
  "kernelspec": {
   "display_name": "pytorch-env",
   "language": "python",
   "name": "python3"
  },
  "language_info": {
   "codemirror_mode": {
    "name": "ipython",
    "version": 3
   },
   "file_extension": ".py",
   "mimetype": "text/x-python",
   "name": "python",
   "nbconvert_exporter": "python",
   "pygments_lexer": "ipython3",
   "version": "3.11.9"
  }
 },
 "nbformat": 4,
 "nbformat_minor": 2
}

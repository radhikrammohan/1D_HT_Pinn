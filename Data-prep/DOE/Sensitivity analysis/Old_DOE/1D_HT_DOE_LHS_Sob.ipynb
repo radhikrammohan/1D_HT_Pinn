{
 "cells": [
  {
   "cell_type": "markdown",
   "metadata": {},
   "source": [
    "# 1D Three Phase Simulation of Alloys and PINN model development \n"
   ]
  },
  {
   "cell_type": "markdown",
   "metadata": {},
   "source": [
    "This notebook contains the simulation of 1D Phase change of aluminium alloy. There will be three phases (solid,liquid and mushy).   \n",
    "\n",
    "The approach used is finite difference method and the physics involved in heat conduction."
   ]
  },
  {
   "cell_type": "markdown",
   "metadata": {},
   "source": [
    "Import Libraries"
   ]
  },
  {
   "cell_type": "code",
   "execution_count": 2,
   "metadata": {},
   "outputs": [],
   "source": [
    "import sys\n",
    "import math\n",
    "import numpy as np\n",
    "import matplotlib.pyplot as plt\n",
    "from matplotlib.animation import FuncAnimation\n",
    "import csv\n",
    "from sklearn import svm\n",
    "import pandas as pd\n",
    "import itertools\n",
    "\n",
    "from ht_sim_2 import sim1d\n",
    "\n",
    "\n",
    "from pyDOE2 import fullfact\n",
    "from pyDOE2 import fracfact\n",
    "\n",
    "import statsmodels.api as sm\n",
    "\n",
    "from statsmodels.formula.api import ols\n",
    "from scipy.stats import ttest_ind\n",
    "\n"
   ]
  },
  {
   "cell_type": "markdown",
   "metadata": {},
   "source": [
    "### <center>Pareto analysis</center>"
   ]
  },
  {
   "cell_type": "markdown",
   "metadata": {},
   "source": [
    "<p style=\"font-size:12px; font-family:'Times New Roman', sans-serif; line-height:1.6;\">\n",
    "\n",
    "In this section sensitivity study of the soldification is performed with respect to different material properties and  initial/boundary conditions. The soldification time is the variable under study and it is calcualted based on solution of 1D heat transfer and phase change equation.\n",
    "\n",
    "\n",
    "\n",
    "Here the parameters/factors are as follows:-\n",
    "\n",
    "1. Density for material in liquid state $\\rho_l$.<br>\n",
    "2. Density for material in solid state $\\rho_s$.<br>\n",
    "3. Latent Heat of Fusion <br>\n",
    "4. Specific heat of material in liquid state $C_{pl}$ <br>\n",
    "5. Specific heat of material in solid state $C_{ps}$ <br>\n",
    "6. Thermal Conductivity of material in liquid state $k_l$<br>\n",
    "7. Thermal Conductivity of material in solid state $k_s$ <br>\n",
    "\n",
    "\n",
    "Boundary conditions:-\n",
    "8. Surrounding Temperature <br>\n",
    "\n",
    "Initial Conditions:-\n",
    "\n",
    "9. Initial_temperature <br>\n",
    "\n",
    "\n",
    "</p>\n",
    "\n",
    "\n"
   ]
  },
  {
   "cell_type": "markdown",
   "metadata": {},
   "source": [
    "A full factorial DOE table is generated to study solidifcation time with the different factors and their corresponding levels."
   ]
  },
  {
   "cell_type": "code",
   "execution_count": 3,
   "metadata": {},
   "outputs": [
    {
     "name": "stdout",
     "output_type": "stream",
     "text": [
      "(512, 9)\n"
     ]
    }
   ],
   "source": [
    "# Create a full factorial design\n",
    "\n",
    "num_levels = 2 \n",
    "levels = [0, 1]\n",
    "num_vars = 9\n",
    "design = fullfact([num_levels]*num_vars)\n",
    "\n",
    "# Create a DataFrame from the full factorial design\n",
    "\n",
    "doe_df_sol_time = pd.DataFrame(design, columns=[f'Var_{i}' for i in range(1, num_vars+1)])\n",
    "print(doe_df_sol_time.shape)"
   ]
  },
  {
   "cell_type": "markdown",
   "metadata": {},
   "source": [
    "The number of runs are large so a fractional factorial design is adopted."
   ]
  },
  {
   "cell_type": "code",
   "execution_count": 4,
   "metadata": {},
   "outputs": [
    {
     "name": "stdout",
     "output_type": "stream",
     "text": [
      "(32, 9)\n"
     ]
    }
   ],
   "source": [
    "#Create a fractional factorial design\n",
    "\n",
    "from pyDOE2 import fracfact\n",
    "\n",
    "num_levels = 2\n",
    "levels = [0, 1]\n",
    "num_vars = 9\n",
    "design2 = fracfact('a b c d e  abcde abcd bcde adce ')\n",
    "L_level = 0.99\n",
    "R_level = 1.01\n",
    "factor_levels = {\n",
    "    'rho_l': [2760.0, 2860.0],\n",
    "    'rho_s': [3000.0, 4000.0],\n",
    "    'k_l': [96.0, 120.0],\n",
    "    'k_s': [110.0, 130.0],\n",
    "    'cp_l': [927.0, 947.0],\n",
    "    'cp_s': [967.0, 987.0],\n",
    "    'Surr_temp': [313.0, 323.0],\n",
    "    'L_fusion': [389e3, 400e3 ],\n",
    "    'temp_init': [880.0, 890.0],\n",
    "\n",
    "}\n",
    "\n",
    "factor_names = list(factor_levels.keys())\n",
    "\n",
    "# Create a DataFrame from the fractional factorial design\n",
    "doe_df_sol_time_fracfact = pd.DataFrame(design2, columns=factor_names)\n",
    "\n",
    "for factor, levels in factor_levels.items():\n",
    "    doe_df_sol_time_fracfact[factor] = doe_df_sol_time_fracfact[factor].map({-1: levels[0], 1: levels[1]})\n",
    "\n",
    "    \n",
    "print(doe_df_sol_time_fracfact.shape)"
   ]
  },
  {
   "cell_type": "markdown",
   "metadata": {},
   "source": [
    "Latin Hypercube Sampling is then explored."
   ]
  },
  {
   "cell_type": "code",
   "execution_count": 5,
   "metadata": {},
   "outputs": [],
   "source": [
    "n_factors = 9\n",
    "n_levels = 2\n",
    "\n",
    "# Create a Latin Hypercube Design\n",
    "\n",
    "from pyDOE2 import lhs\n",
    "\n",
    "design3 = lhs(n_factors, samples=100)\n",
    "factor_levels = {\n",
    "    'rho_l': [2760.0, 2761.0],\n",
    "    'rho_s': [3000.0, 3001.0],\n",
    "    'k_l': [96.0, 120.0],\n",
    "    'k_s': [110.0, 130.0],\n",
    "    'cp_l': [927.0, 947.0],\n",
    "    'cp_s': [967.0, 987.0],\n",
    "    'Surr_temp': [313.0, 323.0],\n",
    "    'L_fusion': [389e3, 400e3 ],\n",
    "    'temp_init': [880.0, 890.0],\n",
    "\n",
    "}\n",
    "\n",
    "factor_names = list(factor_levels.keys())\n",
    "doe_lhs = pd.DataFrame(design3, columns=factor_names)\n",
    "\n",
    "for i, (lower, upper) in enumerate(factor_levels.values()):\n",
    "    doe_lhs.iloc[:, i] = lower + doe_lhs.iloc[:, i] * (upper - lower)\n",
    "\n"
   ]
  },
  {
   "cell_type": "markdown",
   "metadata": {},
   "source": []
  },
  {
   "cell_type": "code",
   "execution_count": 6,
   "metadata": {},
   "outputs": [
    {
     "ename": "TypeError",
     "evalue": "sim1d() missing 1 required positional argument: 'htc'",
     "output_type": "error",
     "traceback": [
      "\u001b[0;31m---------------------------------------------------------------------------\u001b[0m",
      "\u001b[0;31mTypeError\u001b[0m                                 Traceback (most recent call last)",
      "Cell \u001b[0;32mIn[6], line 7\u001b[0m\n\u001b[1;32m      5\u001b[0m \u001b[38;5;28;01mfor\u001b[39;00m i \u001b[38;5;129;01min\u001b[39;00m \u001b[38;5;28mrange\u001b[39m(Lhs_doe_sol_time\u001b[38;5;241m.\u001b[39mshape[\u001b[38;5;241m0\u001b[39m]):\n\u001b[1;32m      6\u001b[0m     input_values \u001b[38;5;241m=\u001b[39m Lhs_doe_sol_time\u001b[38;5;241m.\u001b[39miloc[i,:\u001b[38;5;241m-\u001b[39m\u001b[38;5;241m1\u001b[39m]\u001b[38;5;241m.\u001b[39mvalues\n\u001b[0;32m----> 7\u001b[0m     Lhs_doe_sol_time\u001b[38;5;241m.\u001b[39mat[i, \u001b[38;5;124m'\u001b[39m\u001b[38;5;124mtotal_sol_time\u001b[39m\u001b[38;5;124m'\u001b[39m] \u001b[38;5;241m=\u001b[39m \u001b[43msim1d\u001b[49m\u001b[43m(\u001b[49m\u001b[38;5;241;43m*\u001b[39;49m\u001b[43minput_values\u001b[49m\u001b[43m)\u001b[49m\n\u001b[1;32m      9\u001b[0m \u001b[38;5;28mprint\u001b[39m(Lhs_doe_sol_time\u001b[38;5;241m.\u001b[39mshape)\n",
      "\u001b[0;31mTypeError\u001b[0m: sim1d() missing 1 required positional argument: 'htc'"
     ]
    }
   ],
   "source": [
    "Lhs_doe_sol_time = doe_lhs.copy()\n",
    "\n",
    "Lhs_doe_sol_time['total_sol_time'] = [0.0] * Lhs_doe_sol_time.shape[0]\n",
    "\n",
    "for i in range(Lhs_doe_sol_time.shape[0]):\n",
    "    input_values = Lhs_doe_sol_time.iloc[i,:-1].values\n",
    "    Lhs_doe_sol_time.at[i, 'total_sol_time'] = sim1d(*input_values)\n",
    "\n",
    "print(Lhs_doe_sol_time.shape)"
   ]
  },
  {
   "cell_type": "code",
   "execution_count": null,
   "metadata": {},
   "outputs": [],
   "source": [
    "plt.hist(Lhs_doe_sol_time['total_sol_time'], bins=10, alpha=0.5, color='b')\n",
    "plt.title('Total Soldification time')\n",
    "plt.xlabel('Seconds')\n",
    "plt.ylabel('Frequency')\n",
    "plt.show()"
   ]
  },
  {
   "cell_type": "code",
   "execution_count": null,
   "metadata": {},
   "outputs": [],
   "source": [
    "formula = 'total_sol_time ~ C(rho_l) + C(rho_s) + C(k_l) + C(k_s) + C(cp_l) + C(cp_s) + C(Surr_temp) + C(L_fusion) + C(temp_init)'\n",
    "\n",
    "model_lhs = sm.OLS.from_formula(formula, data=Lhs_doe_sol_time).fit()\n",
    "residual_lhs_ols = model_lhs.resid\n",
    "Lhs_doe_sol_time['Residuals'] = residual_lhs_ols\n",
    "print(model_lhs.summary())"
   ]
  },
  {
   "cell_type": "code",
   "execution_count": null,
   "metadata": {},
   "outputs": [],
   "source": [
    "from scipy.stats import shapiro\n",
    "\n",
    "# Shapiro-Wilk Test\n",
    "stat, p_value = shapiro(residual_lhs_ols)\n",
    "print('Shapiro-Wilk Test Statistic:', stat)\n",
    "print('p-value:', p_value)\n",
    "\n",
    "if p_value > 0.05:\n",
    "    print('The residuals are normally distributed (fail to reject H0).')\n",
    "else:\n",
    "    print('The residuals are not normally distributed (reject H0).')\n",
    "\n",
    "\n",
    "# Plot residuals vs. fitted values\n",
    "plt.scatter(model_lhs.fittedvalues, residual_lhs_ols)\n",
    "plt.axhline(0, color='red', linestyle='--')\n",
    "plt.title('Residuals vs. Fitted Values')\n",
    "plt.xlabel('Fitted Values')\n",
    "plt.ylabel('Residuals')\n",
    "plt.show()"
   ]
  },
  {
   "cell_type": "code",
   "execution_count": null,
   "metadata": {},
   "outputs": [],
   "source": [
    "\n",
    "\n",
    "# Create a Latin Hypercube Design\n",
    "\n",
    "from scipy.stats import qmc\n",
    "\n",
    "n_factors = 9\n",
    "n_samples =200\n",
    "\n",
    "design_sobol = qmc.Sobol(n_factors, scramble=True).random(n_samples)\n",
    "\n",
    "# print(sobol_sample)\n",
    "\n",
    "factor_levels = {\n",
    "    'rho_l': [2760.0, 2761.0],\n",
    "    'rho_s': [3000.0, 3001.0],\n",
    "    'k_l': [96.0, 120.0],\n",
    "    'k_s': [110.0, 130.0],\n",
    "    'cp_l': [927.0, 947.0],\n",
    "    'cp_s': [967.0, 987.0],\n",
    "    'Surr_temp': [313.0, 323.0],\n",
    "    'L_fusion': [389e3, 400e3 ],\n",
    "    'temp_init': [880.0, 890.0],\n",
    "\n",
    "}\n",
    "\n",
    "factor_names = list(factor_levels.keys())\n",
    "doe_sobol = pd.DataFrame(design_sobol, columns=factor_names)\n",
    "\n",
    "for i, (lower, upper) in enumerate(factor_levels.values()):\n",
    "    doe_sobol.iloc[:, i] = lower + doe_sobol.iloc[:, i] * (upper - lower)\n",
    "\n",
    "sobol_doe_sol_time = doe_sobol.copy()\n",
    "\n",
    "sobol_doe_sol_time['total_sol_time'] = [0.0] * sobol_doe_sol_time.shape[0]\n",
    "\n",
    "for i in range(sobol_doe_sol_time.shape[0]):\n",
    "    input_values = sobol_doe_sol_time.iloc[i,:-1].values\n",
    "    sobol_doe_sol_time.at[i, 'total_sol_time'] = sim1d(*input_values)\n",
    "\n",
    "print(sobol_doe_sol_time.shape)\n",
    "\n"
   ]
  },
  {
   "cell_type": "code",
   "execution_count": null,
   "metadata": {},
   "outputs": [],
   "source": [
    "plt.hist(sobol_doe_sol_time['total_sol_time'], bins=10, alpha=0.5, color='b')\n",
    "plt.title('Total Soldification time')\n",
    "plt.xlabel('Seconds')\n",
    "plt.ylabel('Frequency')\n",
    "plt.show()"
   ]
  },
  {
   "cell_type": "code",
   "execution_count": null,
   "metadata": {},
   "outputs": [],
   "source": [
    "formula = 'total_sol_time ~ C(rho_l) + C(rho_s) + C(k_l) + C(k_s) + C(cp_l) + C(cp_s) + C(Surr_temp) + C(L_fusion) + C(temp_init)'\n",
    "\n",
    "model_sobol = sm.OLS.from_formula(formula, data=sobol_doe_sol_time).fit()\n",
    "residual_sobol_ols = model_sobol.resid\n",
    "sobol_doe_sol_time['Residuals'] = residual_sobol_ols\n",
    "print(model_sobol.summary())"
   ]
  },
  {
   "cell_type": "code",
   "execution_count": null,
   "metadata": {},
   "outputs": [],
   "source": [
    "from scipy.stats import shapiro\n",
    "\n",
    "# Shapiro-Wilk Test\n",
    "stat, p_value = shapiro(residual_sobol_ols)\n",
    "print('Shapiro-Wilk Test Statistic:', stat)\n",
    "print('p-value:', p_value)\n",
    "\n",
    "if p_value > 0.05:\n",
    "    print('The residuals are normally distributed (fail to reject H0).')\n",
    "else:\n",
    "    print('The residuals are not normally distributed (reject H0).')\n",
    "\n",
    "\n",
    "# Plot residuals vs. fitted values\n",
    "plt.scatter(model_sobol.fittedvalues, residual_sobol_ols)\n",
    "plt.axhline(0, color='red', linestyle='--')\n",
    "plt.title('Residuals vs. Fitted Values')\n",
    "plt.xlabel('Fitted Values')\n",
    "plt.ylabel('Residuals')\n",
    "plt.show()"
   ]
  }
 ],
 "metadata": {
  "kernelspec": {
   "display_name": "pytorch-env",
   "language": "python",
   "name": "python3"
  },
  "language_info": {
   "codemirror_mode": {
    "name": "ipython",
    "version": 3
   },
   "file_extension": ".py",
   "mimetype": "text/x-python",
   "name": "python",
   "nbconvert_exporter": "python",
   "pygments_lexer": "ipython3",
   "version": "3.9.19"
  }
 },
 "nbformat": 4,
 "nbformat_minor": 2
}

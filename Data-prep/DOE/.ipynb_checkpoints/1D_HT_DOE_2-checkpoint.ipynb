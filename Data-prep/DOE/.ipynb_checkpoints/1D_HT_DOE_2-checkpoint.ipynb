{
 "cells": [
  {
   "cell_type": "markdown",
   "metadata": {},
   "source": [
    "# 1D Three Phase Simulation of Alloys and PINN model development \n"
   ]
  },
  {
   "cell_type": "markdown",
   "metadata": {},
   "source": [
    "This notebook contains the simulation of 1D Phase change of aluminium alloy. There will be three phases (solid,liquid and mushy).   \n",
    "\n",
    "The approach used is finite difference method and the physics involved in heat conduction."
   ]
  },
  {
   "cell_type": "markdown",
   "metadata": {},
   "source": [
    "Import Libraries"
   ]
  },
  {
   "cell_type": "code",
   "execution_count": 19,
   "metadata": {},
   "outputs": [],
   "source": [
    "import sys\n",
    "import math\n",
    "import numpy as np\n",
    "import matplotlib.pyplot as plt\n",
    "from matplotlib.animation import FuncAnimation\n",
    "import csv\n",
    "from sklearn import svm\n",
    "import pandas as pd\n",
    "import itertools\n",
    "\n",
    "from ht_sim_neu import sim1d\n",
    "\n",
    "\n",
    "from pyDOE2 import fullfact\n",
    "from pyDOE2 import fracfact\n",
    "\n",
    "import statsmodels.api as sm\n",
    "\n",
    "from statsmodels.formula.api import ols\n",
    "from scipy.stats import ttest_ind\n",
    "\n"
   ]
  },
  {
   "cell_type": "markdown",
   "metadata": {},
   "source": [
    "### <center>Pareto analysis</center>"
   ]
  },
  {
   "cell_type": "markdown",
   "metadata": {},
   "source": [
    "<p style=\"font-size:12px; font-family:'Times New Roman', sans-serif; line-height:1.6;\">\n",
    "\n",
    "In this section sensitivity study of the soldification is performed with respect to different material properties and  initial/boundary conditions. The soldification time is the variable under study and it is calcualted based on solution of 1D heat transfer and phase change equation.\n",
    "\n",
    "\n",
    "\n",
    "Here the parameters/factors are as follows:-\n",
    "\n",
    "1. Density for material in liquid state $\\rho_l$.<br>\n",
    "2. Density for material in solid state $\\rho_s$.<br>\n",
    "3. Latent Heat of Fusion <br>\n",
    "4. Specific heat of material in liquid state $C_{pl}$ <br>\n",
    "5. Specific heat of material in solid state $C_{ps}$ <br>\n",
    "6. Thermal Conductivity of material in liquid state $k_l$<br>\n",
    "7. Thermal Conductivity of material in solid state $k_s$ <br>\n",
    "\n",
    "\n",
    "Boundary conditions:-\n",
    "8. Surrounding Temperature <br>\n",
    "\n",
    "Initial Conditions:-\n",
    "\n",
    "9. Initial_temperature <br>\n",
    "\n",
    "\n",
    "</p>\n",
    "\n",
    "\n"
   ]
  },
  {
   "cell_type": "markdown",
   "metadata": {},
   "source": [
    "A full factorial DOE table is generated to study solidifcation time with the different factors and their corresponding levels."
   ]
  },
  {
   "cell_type": "code",
   "execution_count": 20,
   "metadata": {},
   "outputs": [
    {
     "name": "stdout",
     "output_type": "stream",
     "text": [
      "(512, 9)\n"
     ]
    }
   ],
   "source": [
    "# Create a full factorial design\n",
    "\n",
    "num_levels = 2 \n",
    "levels = [0, 1]\n",
    "num_vars = 9\n",
    "design = fullfact([num_levels]*num_vars)\n",
    "\n",
    "# Create a DataFrame from the full factorial design\n",
    "\n",
    "doe_df_sol_time = pd.DataFrame(design, columns=[f'Var_{i}' for i in range(1, num_vars+1)])\n",
    "print(doe_df_sol_time.shape)"
   ]
  },
  {
   "cell_type": "markdown",
   "metadata": {},
   "source": [
    "The number of runs are large so a fractional factorial design is adopted."
   ]
  },
  {
   "cell_type": "code",
   "execution_count": 21,
   "metadata": {},
   "outputs": [
    {
     "name": "stdout",
     "output_type": "stream",
     "text": [
      "(32, 9)\n"
     ]
    }
   ],
   "source": [
    "#Create a fractional factorial design\n",
    "\n",
    "from pyDOE2 import fracfact\n",
    "\n",
    "num_levels = 2\n",
    "levels = [0, 1]\n",
    "num_vars = 9\n",
    "design2 = fracfact('a b c d e  abcde abcd bcde adce ')\n",
    "L_level = 0.99\n",
    "R_level = 1.01\n",
    "factor_levels = {\n",
    "    'rho_l': [2760.0, 2761.0],\n",
    "    'rho_s': [3000.0, 3001.0],\n",
    "    'k_l': [96.0, 120.0],\n",
    "    'k_s': [110.0, 130.0],\n",
    "    'cp_l': [927.0, 947.0],\n",
    "    'cp_s': [967.0, 987.0],\n",
    "    'Surr_temp': [313.0, 323.0],\n",
    "    'L_fusion': [389e3, 400e3 ],\n",
    "    'temp_init': [880.0, 890.0],\n",
    "\n",
    "}\n",
    "\n",
    "factor_names = list(factor_levels.keys())\n",
    "\n",
    "# Create a DataFrame from the fractional factorial design\n",
    "doe_df_sol_time_fracfact = pd.DataFrame(design2, columns=factor_names)\n",
    "\n",
    "for factor, levels in factor_levels.items():\n",
    "    doe_df_sol_time_fracfact[factor] = doe_df_sol_time_fracfact[factor].map({-1: levels[0], 1: levels[1]})\n",
    "\n",
    "    \n",
    "print(doe_df_sol_time_fracfact.shape)"
   ]
  },
  {
   "cell_type": "code",
   "execution_count": 22,
   "metadata": {},
   "outputs": [
    {
     "name": "stdout",
     "output_type": "stream",
     "text": [
      "    rho_l   rho_s    k_l    k_s   cp_l   cp_s  Surr_temp  L_fusion  temp_init  \\\n",
      "0  2760.0  3000.0   96.0  110.0  927.0  967.0      323.0  400000.0      890.0   \n",
      "1  2761.0  3000.0   96.0  110.0  927.0  987.0      313.0  400000.0      880.0   \n",
      "2  2760.0  3001.0   96.0  110.0  927.0  987.0      313.0  389000.0      890.0   \n",
      "3  2761.0  3001.0   96.0  110.0  927.0  967.0      323.0  389000.0      880.0   \n",
      "4  2760.0  3000.0  120.0  110.0  927.0  987.0      313.0  389000.0      880.0   \n",
      "\n",
      "   total_sol_time  \n",
      "0             0.0  \n",
      "1             0.0  \n",
      "2             0.0  \n",
      "3             0.0  \n",
      "4             0.0  \n"
     ]
    }
   ],
   "source": [
    "Res_doe_sol_time = doe_df_sol_time_fracfact.copy()\n",
    "\n",
    "Res_doe_sol_time['total_sol_time'] = [0.0] * Res_doe_sol_time.shape[0] # Data frame inclduing the response variable\n",
    "\n",
    "print(Res_doe_sol_time.head(5))\n",
    "\n"
   ]
  },
  {
   "cell_type": "code",
   "execution_count": 23,
   "metadata": {},
   "outputs": [],
   "source": [
    "# here the response values are calculated using sim1d function\n",
    "\n",
    "for i in range(Res_doe_sol_time.shape[0]):\n",
    "    input_values = Res_doe_sol_time.iloc[i,:-1].values\n",
    "    Res_doe_sol_time.at[i, 'total_sol_time'] = sim1d(*input_values)"
   ]
  },
  {
   "cell_type": "markdown",
   "metadata": {},
   "source": [
    " Histogram of the Total Solidifcation time is plotted"
   ]
  },
  {
   "cell_type": "code",
   "execution_count": 24,
   "metadata": {},
   "outputs": [
    {
     "data": {
      "image/png": "[encoded data removed]",
      "text/plain": [
       "<Figure size 640x480 with 1 Axes>"
      ]
     },
     "metadata": {},
     "output_type": "display_data"
    }
   ],
   "source": [
    "plt.hist(Res_doe_sol_time['total_sol_time'], bins=10, alpha=0.5, color='b')\n",
    "plt.title('Total Soldification time')\n",
    "plt.xlabel('Seconds')\n",
    "plt.ylabel('Frequency')\n",
    "plt.show()"
   ]
  },
  {
   "cell_type": "markdown",
   "metadata": {},
   "source": [
    "Regression model is developed"
   ]
  },
  {
   "cell_type": "code",
   "execution_count": 26,
   "metadata": {},
   "outputs": [
    {
     "name": "stdout",
     "output_type": "stream",
     "text": [
      "                            OLS Regression Results                            \n",
      "==============================================================================\n",
      "Dep. Variable:         total_sol_time   R-squared:                       0.991\n",
      "Model:                            OLS   Adj. R-squared:                  0.988\n",
      "Method:                 Least Squares   F-statistic:                     283.2\n",
      "Date:                Wed, 19 Jun 2024   Prob (F-statistic):           1.27e-20\n",
      "Time:                        15:44:13   Log-Likelihood:                 6.5238\n",
      "No. Observations:                  32   AIC:                             6.952\n",
      "Df Residuals:                      22   BIC:                             21.61\n",
      "Df Model:                           9                                         \n",
      "Covariance Type:            nonrobust                                         \n",
      "===========================================================================================\n",
      "                              coef    std err          t      P>|t|      [0.025      0.975]\n",
      "-------------------------------------------------------------------------------------------\n",
      "Intercept                  30.0226      0.133    225.651      0.000      29.747      30.299\n",
      "C(rho_l)[T.2761.0]          0.0050      0.084      0.059      0.953      -0.170       0.179\n",
      "C(rho_s)[T.3001.0]          0.0040      0.084      0.047      0.963      -0.171       0.178\n",
      "C(k_l)[T.120.0]            -3.3367      0.084    -39.652      0.000      -3.511      -3.162\n",
      "C(k_s)[T.130.0]             2.4302      0.084     28.880      0.000       2.256       2.605\n",
      "C(cp_l)[T.947.0]            0.0576      0.084      0.685      0.501      -0.117       0.232\n",
      "C(cp_s)[T.987.0]            0.0274      0.084      0.326      0.747      -0.147       0.202\n",
      "C(Surr_temp)[T.323.0]       0.6103      0.084      7.253      0.000       0.436       0.785\n",
      "C(L_fusion)[T.400000.0]     0.7372      0.084      8.760      0.000       0.563       0.912\n",
      "C(temp_init)[T.890.0]       0.2965      0.084      3.523      0.002       0.122       0.471\n",
      "==============================================================================\n",
      "Omnibus:                       57.243   Durbin-Watson:                   0.586\n",
      "Prob(Omnibus):                  0.000   Jarque-Bera (JB):                4.250\n",
      "Skew:                           0.141   Prob(JB):                        0.119\n",
      "Kurtosis:                       1.237   Cond. No.                         6.85\n",
      "==============================================================================\n",
      "\n",
      "Notes:\n",
      "[1] Standard Errors assume that the covariance matrix of the errors is correctly specified.\n"
     ]
    }
   ],
   "source": [
    "\n",
    "\n",
    "# Create the formula for the ANOVA\n",
    "formula = 'total_sol_time ~ C(rho_l) + C(rho_s) + C(k_l) + C(k_s) + C(cp_l) + C(cp_s) + C(Surr_temp) + C(L_fusion) + C(temp_init)'\n",
    "\n",
    "# Fit the model\n",
    "model = sm.OLS.from_formula(formula, data=Res_doe_sol_time).fit()\n",
    "print(model.summary())\n"
   ]
  },
  {
   "cell_type": "code",
   "execution_count": 27,
   "metadata": {},
   "outputs": [],
   "source": [
    "residuals = model.resid\n",
    "Res_doe_sol_time['Residuals'] =residuals"
   ]
  },
  {
   "cell_type": "markdown",
   "metadata": {},
   "source": [
    "Residuals of the model was calculated and the its normality is checked"
   ]
  },
  {
   "cell_type": "code",
   "execution_count": 28,
   "metadata": {},
   "outputs": [
    {
     "name": "stdout",
     "output_type": "stream",
     "text": [
      "Shapiro-Wilk Test Statistic: 0.8104049694465643\n",
      "p-value: 6.433486921940622e-05\n",
      "The residuals are not normally distributed (reject H0).\n"
     ]
    }
   ],
   "source": [
    "from scipy.stats import shapiro\n",
    "\n",
    "# Shapiro-Wilk Test\n",
    "stat, p_value = shapiro(residuals)\n",
    "print('Shapiro-Wilk Test Statistic:', stat)\n",
    "print('p-value:', p_value)\n",
    "\n",
    "if p_value > 0.05:\n",
    "    print('The residuals are normally distributed (fail to reject H0).')\n",
    "else:\n",
    "    print('The residuals are not normally distributed (reject H0).')\n"
   ]
  },
  {
   "cell_type": "markdown",
   "metadata": {},
   "source": [
    "Log transformation is performed on the response variable and then new model is developed"
   ]
  },
  {
   "cell_type": "code",
   "execution_count": 30,
   "metadata": {},
   "outputs": [
    {
     "name": "stdout",
     "output_type": "stream",
     "text": [
      "                            OLS Regression Results                            \n",
      "==============================================================================\n",
      "Dep. Variable:            transf_data   R-squared:                       0.996\n",
      "Model:                            OLS   Adj. R-squared:                  0.995\n",
      "Method:                 Least Squares   F-statistic:                     639.2\n",
      "Date:                Wed, 19 Jun 2024   Prob (F-statistic):           1.75e-24\n",
      "Time:                        15:49:37   Log-Likelihood:                 129.98\n",
      "No. Observations:                  32   AIC:                            -240.0\n",
      "Df Residuals:                      22   BIC:                            -225.3\n",
      "Df Model:                           9                                         \n",
      "Covariance Type:            nonrobust                                         \n",
      "===========================================================================================\n",
      "                              coef    std err          t      P>|t|      [0.025      0.975]\n",
      "-------------------------------------------------------------------------------------------\n",
      "Intercept                   3.4327      0.003   1222.155      0.000       3.427       3.438\n",
      "C(rho_l)[T.2761.0]          0.0002      0.002      0.085      0.933      -0.004       0.004\n",
      "C(rho_s)[T.3001.0]          0.0001      0.002      0.071      0.944      -0.004       0.004\n",
      "C(k_l)[T.120.0]            -0.1059      0.002    -59.626      0.000      -0.110      -0.102\n",
      "C(k_s)[T.130.0]             0.0769      0.002     43.293      0.000       0.073       0.081\n",
      "C(cp_l)[T.947.0]            0.0018      0.002      0.989      0.333      -0.002       0.005\n",
      "C(cp_s)[T.987.0]            0.0009      0.002      0.514      0.612      -0.003       0.005\n",
      "C(Surr_temp)[T.323.0]       0.0194      0.002     10.931      0.000       0.016       0.023\n",
      "C(L_fusion)[T.400000.0]     0.0235      0.002     13.205      0.000       0.020       0.027\n",
      "C(temp_init)[T.890.0]       0.0094      0.002      5.266      0.000       0.006       0.013\n",
      "==============================================================================\n",
      "Omnibus:                       61.403   Durbin-Watson:                   0.609\n",
      "Prob(Omnibus):                  0.000   Jarque-Bera (JB):                4.245\n",
      "Skew:                           0.085   Prob(JB):                        0.120\n",
      "Kurtosis:                       1.224   Cond. No.                         6.85\n",
      "==============================================================================\n",
      "\n",
      "Notes:\n",
      "[1] Standard Errors assume that the covariance matrix of the errors is correctly specified.\n"
     ]
    }
   ],
   "source": [
    "transformed_data = np.log( Res_doe_sol_time['total_sol_time']+ 1)  # Add 1 to avoid log(0)\n",
    "Res_doe_sol_time['transf_data'] = transformed_data\n",
    "\n",
    "# Create the formula for the ANOVA\n",
    "formula2 = 'transf_data ~ C(rho_l) + C(rho_s) + C(k_l) + C(k_s) + C(cp_l) + C(cp_s) + C(Surr_temp) + C(L_fusion) + C(temp_init)'\n",
    "\n",
    "# Fit the model\n",
    "model2 = sm.OLS.from_formula(formula2, data=Res_doe_sol_time).fit()\n",
    "print(model.summary())"
   ]
  },
  {
   "cell_type": "markdown",
   "metadata": {},
   "source": [
    "Residuals of the new model is calcualted and normality is performed on the new model"
   ]
  },
  {
   "cell_type": "code",
   "execution_count": 31,
   "metadata": {},
   "outputs": [
    {
     "name": "stdout",
     "output_type": "stream",
     "text": [
      "Shapiro-Wilk Test Statistic: 0.8240840891547663\n",
      "p-value: 0.00011961025821220924\n",
      "The residuals are not normally distributed (reject H0).\n"
     ]
    }
   ],
   "source": [
    "residuals2 = model2.resid\n",
    "\n",
    "# Shapiro-Wilk Test\n",
    "stat, p_value = shapiro(residuals2)\n",
    "print('Shapiro-Wilk Test Statistic:', stat)\n",
    "print('p-value:', p_value)\n",
    "\n",
    "if p_value > 0.05:\n",
    "    print('The residuals are normally distributed (fail to reject H0).')\n",
    "else:\n",
    "    print('The residuals are not normally distributed (reject H0).')"
   ]
  },
  {
   "cell_type": "markdown",
   "metadata": {},
   "source": [
    "Generalised linear model is developed  for earlier model"
   ]
  },
  {
   "cell_type": "code",
   "execution_count": 32,
   "metadata": {},
   "outputs": [
    {
     "name": "stdout",
     "output_type": "stream",
     "text": [
      "                            GLS Regression Results                            \n",
      "==============================================================================\n",
      "Dep. Variable:         total_sol_time   R-squared:                       0.991\n",
      "Model:                            GLS   Adj. R-squared:                  0.988\n",
      "Method:                 Least Squares   F-statistic:                     283.2\n",
      "Date:                Wed, 19 Jun 2024   Prob (F-statistic):           1.27e-20\n",
      "Time:                        15:57:21   Log-Likelihood:                 6.5238\n",
      "No. Observations:                  32   AIC:                             6.952\n",
      "Df Residuals:                      22   BIC:                             21.61\n",
      "Df Model:                           9                                         \n",
      "Covariance Type:            nonrobust                                         \n",
      "===========================================================================================\n",
      "                              coef    std err          t      P>|t|      [0.025      0.975]\n",
      "-------------------------------------------------------------------------------------------\n",
      "Intercept                  30.0226      0.133    225.651      0.000      29.747      30.299\n",
      "C(rho_l)[T.2761.0]          0.0050      0.084      0.059      0.953      -0.170       0.179\n",
      "C(rho_s)[T.3001.0]          0.0040      0.084      0.047      0.963      -0.171       0.178\n",
      "C(k_l)[T.120.0]            -3.3367      0.084    -39.652      0.000      -3.511      -3.162\n",
      "C(k_s)[T.130.0]             2.4302      0.084     28.880      0.000       2.256       2.605\n",
      "C(cp_l)[T.947.0]            0.0576      0.084      0.685      0.501      -0.117       0.232\n",
      "C(cp_s)[T.987.0]            0.0274      0.084      0.326      0.747      -0.147       0.202\n",
      "C(Surr_temp)[T.323.0]       0.6103      0.084      7.253      0.000       0.436       0.785\n",
      "C(L_fusion)[T.400000.0]     0.7372      0.084      8.760      0.000       0.563       0.912\n",
      "C(temp_init)[T.890.0]       0.2965      0.084      3.523      0.002       0.122       0.471\n",
      "==============================================================================\n",
      "Omnibus:                       57.243   Durbin-Watson:                   0.586\n",
      "Prob(Omnibus):                  0.000   Jarque-Bera (JB):                4.250\n",
      "Skew:                           0.141   Prob(JB):                        0.119\n",
      "Kurtosis:                       1.237   Cond. No.                         6.85\n",
      "==============================================================================\n",
      "\n",
      "Notes:\n",
      "[1] Standard Errors assume that the covariance matrix of the errors is correctly specified.\n"
     ]
    }
   ],
   "source": [
    "\n",
    "# Create the formula for the ANOVA\n",
    "formula = 'total_sol_time ~ C(rho_l) + C(rho_s) + C(k_l) + C(k_s) + C(cp_l) + C(cp_s) + C(Surr_temp) + C(L_fusion) + C(temp_init)'\n",
    "\n",
    "# Fit the model\n",
    "model = sm.GLS.from_formula(formula, data=Res_doe_sol_time).fit()\n",
    "print(model.summary())"
   ]
  },
  {
   "cell_type": "code",
   "execution_count": 33,
   "metadata": {},
   "outputs": [
    {
     "name": "stdout",
     "output_type": "stream",
     "text": [
      "Shapiro-Wilk Test Statistic: 0.8104049694465643\n",
      "p-value: 6.433486921940622e-05\n",
      "The residuals are not normally distributed (reject H0).\n"
     ]
    }
   ],
   "source": [
    "residuals3 = model.resid\n",
    "\n",
    "# Shapiro-Wilk Test\n",
    "stat, p_value = shapiro(residuals3)\n",
    "print('Shapiro-Wilk Test Statistic:', stat)\n",
    "print('p-value:', p_value)\n",
    "\n",
    "if p_value > 0.05:\n",
    "    print('The residuals are normally distributed (fail to reject H0).')\n",
    "else:\n",
    "    print('The residuals are not normally distributed (reject H0).')"
   ]
  },
  {
   "cell_type": "markdown",
   "metadata": {},
   "source": [
    "Again the normality is not satisfied so ploynomial regression model is developed"
   ]
  },
  {
   "cell_type": "markdown",
   "metadata": {},
   "source": [
    "## Anova Results"
   ]
  },
  {
   "cell_type": "code",
   "execution_count": null,
   "metadata": {},
   "outputs": [],
   "source": []
  }
 ],
 "metadata": {
  "kernelspec": {
   "display_name": "Python (pytorch-env)",
   "language": "python",
   "name": "myenv"
  },
  "language_info": {
   "codemirror_mode": {
    "name": "ipython",
    "version": 3
   },
   "file_extension": ".py",
   "mimetype": "text/x-python",
   "name": "python",
   "nbconvert_exporter": "python",
   "pygments_lexer": "ipython3",
   "version": "3.11.9"
  }
 },
 "nbformat": 4,
 "nbformat_minor": 2
}

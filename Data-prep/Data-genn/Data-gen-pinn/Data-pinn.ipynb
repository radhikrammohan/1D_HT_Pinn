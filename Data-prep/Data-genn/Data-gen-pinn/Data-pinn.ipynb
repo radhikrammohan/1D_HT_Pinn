{
 "cells": [
  {
   "cell_type": "code",
   "execution_count": 18,
   "metadata": {},
   "outputs": [],
   "source": [
    "import numpy as np\n",
    "import matplotlib.pyplot as plt\n",
    "from Datagen import sim1d\n"
   ]
  },
  {
   "cell_type": "code",
   "execution_count": 19,
   "metadata": {},
   "outputs": [
    {
     "name": "stdout",
     "output_type": "stream",
     "text": [
      "Stable\n",
      "Stable\n",
      "Stable\n",
      "(4720500,) (4720500,) (4720500,) (4720500,)\n",
      "(4720500, 3)\n",
      "(4720500,)\n"
     ]
    }
   ],
   "source": [
    "L1 = sim1d(rho_l=2460.0, rho_s=2710.0, k_l=104.0, k_s= 96.2, cp_l=1245.3, cp_s=963.0, \\\n",
    "            t_surr=298.0, L_fusion=389000, temp_init=913.0, htc_l=10.0,htc_r= 12.0, length =15.0e-3)\n",
    "                \n",
    "L2 = sim1d(rho_l=2460.0, rho_s=2710.0, k_l=104.0, k_s= 96.2, cp_l=1245.3, cp_s=963.0, \\\n",
    "            t_surr=298.0, L_fusion=389000, temp_init=913.0, htc_l=12.0,htc_r= 12.0, length =15.0e-3)\n",
    "L3 = sim1d(rho_l=2460.0, rho_s=2710.0, k_l=104.0, k_s= 96.2, cp_l=1245.3, cp_s=963.0, \n",
    "               t_surr=298.0, L_fusion=389000, temp_init=913.0, htc_l=15.0,htc_r= 12.0, length =15.0e-3)          \n",
    "\n",
    "\n",
    "htc_l_1 = 10.0\n",
    "htc_l_2 = 12.0\n",
    "htc_l_3 = 15.0\n",
    "\n",
    "T1,space_1,time_1 = L1[0],L1[1],L1[2]\n",
    "T2,space_2,time_2 = L2[0],L2[1],L2[2]\n",
    "T3,space_3,time_3 = L3[0],L3[1],L3[2]\n",
    "    \n",
    "\n",
    "\n",
    "space_1, time_1 = np.meshgrid(space_1, time_1)\n",
    "space_2, time_2 = np.meshgrid(space_2, time_2)\n",
    "space_3, time_3 = np.meshgrid(space_3, time_3)\n",
    "\n",
    "space_1 = space_1.flatten()\n",
    "time_1 = time_1.flatten()\n",
    "htc_l_1 = np.ones(space_1.shape)*htc_l_1\n",
    "\n",
    "space_2 = space_2.flatten()\n",
    "time_2 = time_2.flatten()\n",
    "htc_l_2 = np.ones(space_2.shape)*htc_l_2\n",
    "\n",
    "space_3 = space_3.flatten()\n",
    "time_3 = time_3.flatten()\n",
    "htc_l_3 = np.ones(space_3.shape)*htc_l_3\n",
    "\n",
    "Temp1 = T1.flatten()\n",
    "Temp2 = T2.flatten()\n",
    "Temp3 = T3.flatten()\n",
    "\n",
    "space_all = np.concatenate((space_1,space_2,space_3),axis=0)\n",
    "time_all = np.concatenate((time_1,time_2,time_3),axis=0)\n",
    "Temp_all = np.concatenate((Temp1,Temp2,Temp3),axis=0)\n",
    "htc_l_all = np.concatenate((htc_l_1,htc_l_2,htc_l_3),axis=0)\n",
    "\n",
    "\n",
    "print(space_all.shape,time_all.shape,Temp_all.shape,htc_l_all.shape)\n",
    "\n",
    "\n",
    "inputs = np.column_stack((space_all, time_all,htc_l_all))\n",
    "outputs = Temp_all\n",
    "\n",
    "# print(inputs.shape)\n",
    "# print(outputs.shape)"
   ]
  },
  {
   "cell_type": "code",
   "execution_count": null,
   "metadata": {},
   "outputs": [],
   "source": []
  }
 ],
 "metadata": {
  "kernelspec": {
   "display_name": "pytorch-env",
   "language": "python",
   "name": "python3"
  },
  "language_info": {
   "codemirror_mode": {
    "name": "ipython",
    "version": 3
   },
   "file_extension": ".py",
   "mimetype": "text/x-python",
   "name": "python",
   "nbconvert_exporter": "python",
   "pygments_lexer": "ipython3",
   "version": "3.11.8"
  }
 },
 "nbformat": 4,
 "nbformat_minor": 2
}

{
 "cells": [
  {
   "cell_type": "code",
   "execution_count": 96,
   "metadata": {},
   "outputs": [],
   "source": [
    "import deepxde as dde\n",
    "import numpy as np\n",
    "import matplotlib.pyplot as plt\n",
    "from simdata import HT_sim, scaler,fdd, pdeinp,icinp,bcinp\n"
   ]
  },
  {
   "cell_type": "code",
   "execution_count": 97,
   "metadata": {},
   "outputs": [],
   "source": [
    "L = 15e-3\n",
    "\n",
    "time_end = 40.0\n",
    "numpoints = 50\n",
    "t_surr = 500.0\n",
    "temp_init = 919.0"
   ]
  },
  {
   "cell_type": "code",
   "execution_count": 98,
   "metadata": {},
   "outputs": [
    {
     "name": "stdout",
     "output_type": "stream",
     "text": [
      "3.394878564540885e-05\n",
      "50 31470\n",
      "1573500\n"
     ]
    }
   ],
   "source": [
    "heat_data = HT_sim(L, time_end, numpoints,  t_surr,temp_init)\n",
    "alpha = heat_data.alpha_l\n",
    "print(alpha)\n",
    "tempfield = heat_data.datagen()\n",
    "\n",
    "# heat_data.plot_temp(25)\n",
    "\n",
    "# Temperature dataset\n",
    "temp_data = tempfield.flatten()\n",
    "\n",
    "# temp_data = scaler(temp_data,400.0,919.0)\n",
    "\n",
    "\n",
    "# input dataset- fdd\n",
    "num_steps = tempfield.shape[0]\n",
    "numpoints = tempfield.shape[1] \n",
    "print(numpoints, num_steps)\n",
    "print(numpoints*num_steps) \n",
    "inp_data = fdd(15e-3, 40, numpoints, num_steps,scl=\"false\")\n",
    "\n"
   ]
  },
  {
   "cell_type": "code",
   "execution_count": 99,
   "metadata": {},
   "outputs": [],
   "source": [
    "def pde(x, y):\n",
    "    # pde for heat equation\n",
    "    dy_t = dde.grad.jacobian(y, x, j=0)\n",
    "    dy_xx = dde.grad.hessian(y, x, j=1)\n",
    "    return dy_t - alpha*dy_xx"
   ]
  },
  {
   "cell_type": "code",
   "execution_count": 100,
   "metadata": {},
   "outputs": [],
   "source": [
    "geom = dde.geometry.Interval(0, L)\n",
    "timedomain = dde.geometry.TimeDomain(0, time_end)\n",
    "geomtime = dde.geometry.GeometryXTime(geom, timedomain)\n",
    "\n",
    "bc = dde.DirichletBC(geomtime, lambda x: 500.0, lambda _, on_boundary: on_boundary)\n",
    "\n",
    "ic = dde.IC(geomtime, lambda x: 919.0, lambda _, on_initial: on_initial)"
   ]
  },
  {
   "cell_type": "code",
   "execution_count": 101,
   "metadata": {},
   "outputs": [],
   "source": [
    "data = dde.data.TimePDE(geomtime, \\\n",
    "                        pde,\\\n",
    "                        [bc, ic], \\\n",
    "                      num_domain=10000, \\\n",
    "                     num_boundary=10000, \\\n",
    "                        num_initial=10000, num_test=10000)"
   ]
  },
  {
   "cell_type": "code",
   "execution_count": 102,
   "metadata": {},
   "outputs": [],
   "source": [
    "net = dde.maps.FNN([2] + [50] * 3 + [1], \"tanh\", \"Glorot normal\")\n",
    "model = dde.Model(data, net)\n",
    "\n"
   ]
  },
  {
   "cell_type": "code",
   "execution_count": 103,
   "metadata": {},
   "outputs": [
    {
     "name": "stdout",
     "output_type": "stream",
     "text": [
      "Compiling model...\n",
      "'compile' took 0.000310 s\n",
      "\n",
      "Training model...\n",
      "\n",
      "Step      Train loss                        Test loss                         Test metric\n",
      "0         [6.35e-02, 2.48e+05, 8.45e+05]    [1.77e-02, 2.48e+05, 8.45e+05]    []  \n",
      "1000      [1.39e-04, 1.91e+05, 7.33e+05]    [8.96e-07, 1.91e+05, 7.33e+05]    []  \n",
      "2000      [1.17e-05, 1.51e+05, 6.51e+05]    [7.95e-08, 1.51e+05, 6.51e+05]    []  \n",
      "3000      [2.25e-06, 1.16e+05, 5.76e+05]    [1.58e-08, 1.16e+05, 5.76e+05]    []  \n",
      "4000      [5.88e-07, 8.58e+04, 5.07e+05]    [4.27e-09, 8.58e+04, 5.07e+05]    []  \n",
      "5000      [1.81e-07, 6.07e+04, 4.43e+05]    [1.34e-09, 6.07e+04, 4.43e+05]    []  \n",
      "6000      [6.10e-08, 4.02e+04, 3.84e+05]    [4.67e-10, 4.02e+04, 3.84e+05]    []  \n",
      "7000      [2.10e-08, 2.40e+04, 3.29e+05]    [1.66e-10, 2.40e+04, 3.29e+05]    []  \n",
      "8000      [8.06e-09, 1.21e+04, 2.80e+05]    [6.35e-11, 1.21e+04, 2.80e+05]    []  \n",
      "9000      [2.66e-09, 4.37e+03, 2.35e+05]    [2.02e-11, 4.37e+03, 2.35e+05]    []  \n",
      "10000     [5.82e-10, 5.32e+02, 1.95e+05]    [2.48e-12, 5.32e+02, 1.95e+05]    []  \n",
      "11000     [5.71e-11, 3.52e+02, 1.60e+05]    [1.92e-13, 3.52e+02, 1.60e+05]    []  \n",
      "12000     [3.30e-14, 3.48e+03, 1.30e+05]    [0.00e+00, 3.48e+03, 1.30e+05]    []  \n",
      "13000     [1.75e-15, 9.42e+03, 1.04e+05]    [0.00e+00, 9.42e+03, 1.04e+05]    []  \n",
      "14000     [0.00e+00, 1.74e+04, 8.24e+04]    [0.00e+00, 1.74e+04, 8.24e+04]    []  \n",
      "15000     [0.00e+00, 2.64e+04, 6.58e+04]    [0.00e+00, 2.64e+04, 6.58e+04]    []  \n",
      "16000     [0.00e+00, 3.48e+04, 5.40e+04]    [0.00e+00, 3.48e+04, 5.40e+04]    []  \n",
      "17000     [0.00e+00, 4.08e+04, 4.71e+04]    [0.00e+00, 4.08e+04, 4.71e+04]    []  \n",
      "18000     [0.00e+00, 4.34e+04, 4.44e+04]    [0.00e+00, 4.34e+04, 4.44e+04]    []  \n",
      "19000     [0.00e+00, 4.39e+04, 4.39e+04]    [0.00e+00, 4.39e+04, 4.39e+04]    []  \n",
      "20000     [0.00e+00, 4.39e+04, 4.39e+04]    [0.00e+00, 4.39e+04, 4.39e+04]    []  \n",
      "21000     [0.00e+00, 4.39e+04, 4.39e+04]    [0.00e+00, 4.39e+04, 4.39e+04]    []  \n",
      "22000     [0.00e+00, 4.39e+04, 4.39e+04]    [0.00e+00, 4.39e+04, 4.39e+04]    []  \n",
      "23000     [0.00e+00, 4.39e+04, 4.39e+04]    [0.00e+00, 4.39e+04, 4.39e+04]    []  \n",
      "24000     [0.00e+00, 4.39e+04, 4.39e+04]    [0.00e+00, 4.39e+04, 4.39e+04]    []  \n",
      "25000     [0.00e+00, 4.39e+04, 4.39e+04]    [0.00e+00, 4.39e+04, 4.39e+04]    []  \n",
      "26000     [0.00e+00, 4.39e+04, 4.39e+04]    [0.00e+00, 4.39e+04, 4.39e+04]    []  \n",
      "27000     [0.00e+00, 4.39e+04, 4.39e+04]    [0.00e+00, 4.39e+04, 4.39e+04]    []  \n",
      "28000     [0.00e+00, 4.39e+04, 4.39e+04]    [0.00e+00, 4.39e+04, 4.39e+04]    []  \n",
      "29000     [0.00e+00, 4.39e+04, 4.39e+04]    [0.00e+00, 4.39e+04, 4.39e+04]    []  \n",
      "30000     [0.00e+00, 4.39e+04, 4.39e+04]    [0.00e+00, 4.39e+04, 4.39e+04]    []  \n",
      "31000     [0.00e+00, 4.39e+04, 4.39e+04]    [0.00e+00, 4.39e+04, 4.39e+04]    []  \n",
      "32000     [0.00e+00, 4.39e+04, 4.39e+04]    [0.00e+00, 4.39e+04, 4.39e+04]    []  \n",
      "33000     [0.00e+00, 4.39e+04, 4.39e+04]    [0.00e+00, 4.39e+04, 4.39e+04]    []  \n",
      "34000     [0.00e+00, 4.39e+04, 4.39e+04]    [0.00e+00, 4.39e+04, 4.39e+04]    []  \n",
      "35000     [0.00e+00, 4.39e+04, 4.39e+04]    [0.00e+00, 4.39e+04, 4.39e+04]    []  \n",
      "36000     [0.00e+00, 4.39e+04, 4.39e+04]    [0.00e+00, 4.39e+04, 4.39e+04]    []  \n",
      "37000     [0.00e+00, 4.39e+04, 4.39e+04]    [0.00e+00, 4.39e+04, 4.39e+04]    []  \n",
      "38000     [0.00e+00, 4.39e+04, 4.39e+04]    [0.00e+00, 4.39e+04, 4.39e+04]    []  \n",
      "39000     [0.00e+00, 4.39e+04, 4.39e+04]    [0.00e+00, 4.39e+04, 4.39e+04]    []  \n",
      "40000     [0.00e+00, 4.39e+04, 4.39e+04]    [0.00e+00, 4.39e+04, 4.39e+04]    []  \n",
      "41000     [0.00e+00, 4.39e+04, 4.39e+04]    [0.00e+00, 4.39e+04, 4.39e+04]    []  \n",
      "42000     [0.00e+00, 4.39e+04, 4.39e+04]    [0.00e+00, 4.39e+04, 4.39e+04]    []  \n",
      "43000     [0.00e+00, 4.39e+04, 4.39e+04]    [0.00e+00, 4.39e+04, 4.39e+04]    []  \n",
      "44000     [0.00e+00, 4.39e+04, 4.39e+04]    [0.00e+00, 4.39e+04, 4.39e+04]    []  \n",
      "45000     [0.00e+00, 4.39e+04, 4.39e+04]    [0.00e+00, 4.39e+04, 4.39e+04]    []  \n",
      "46000     [0.00e+00, 4.39e+04, 4.39e+04]    [0.00e+00, 4.39e+04, 4.39e+04]    []  \n",
      "47000     [0.00e+00, 4.39e+04, 4.39e+04]    [0.00e+00, 4.39e+04, 4.39e+04]    []  \n",
      "48000     [0.00e+00, 4.39e+04, 4.39e+04]    [0.00e+00, 4.39e+04, 4.39e+04]    []  \n",
      "49000     [0.00e+00, 4.39e+04, 4.39e+04]    [0.00e+00, 4.39e+04, 4.39e+04]    []  \n",
      "50000     [0.00e+00, 4.39e+04, 4.39e+04]    [0.00e+00, 4.39e+04, 4.39e+04]    []  \n",
      "\n",
      "Best model at step 39000:\n",
      "  train loss: 8.78e+04\n",
      "  test loss: 8.78e+04\n",
      "  test metric: []\n",
      "\n",
      "'train' took 693.771968 s\n",
      "\n",
      "Compiling model...\n",
      "'compile' took 0.001606 s\n",
      "\n",
      "Training model...\n",
      "\n",
      "Step      Train loss                        Test loss                         Test metric\n",
      "50000     [0.00e+00, 4.39e+04, 4.39e+04]    [0.00e+00, 4.39e+04, 4.39e+04]    []  \n",
      "50002     [0.00e+00, 4.39e+04, 4.39e+04]    [0.00e+00, 4.39e+04, 4.39e+04]    []  \n",
      "\n",
      "Best model at step 39000:\n",
      "  train loss: 8.78e+04\n",
      "  test loss: 8.78e+04\n",
      "  test metric: []\n",
      "\n",
      "'train' took 0.349066 s\n",
      "\n"
     ]
    }
   ],
   "source": [
    "model.compile(\"adam\", lr=0.001)\n",
    "model.train(iterations=50000)\n",
    "model.compile(\"L-BFGS-B\")\n",
    "\n",
    "losshistory, train_state = model.train()"
   ]
  },
  {
   "cell_type": "code",
   "execution_count": 104,
   "metadata": {},
   "outputs": [
    {
     "name": "stdout",
     "output_type": "stream",
     "text": [
      "(1573500, 1)\n",
      "(31470, 50)\n"
     ]
    },
    {
     "data": {
      "image/png": "[encoded data removed]",
      "text/plain": [
       "<Figure size 640x480 with 1 Axes>"
      ]
     },
     "metadata": {},
     "output_type": "display_data"
    }
   ],
   "source": [
    "y_pred = model.predict(inp_data)\n",
    "print(y_pred.shape)\n",
    "temp_nn = y_pred.reshape(num_steps, numpoints)\n",
    "print(temp_nn.shape)\n",
    "time_ss= np.linspace(0, 40.0, num_steps )\n",
    "\n",
    "plt.figure\n",
    "plt.plot(time_ss, temp_nn[:,25 ], label='Predicted Temperature')\n",
    "plt.plot(time_ss, tempfield[:,25], label='Actual Temperature')\n",
    "plt.xlabel('Time(s)')\n",
    "plt.ylabel('Temperature (K)')\n",
    "plt.yscale('linear')\n",
    "plt.title('Predicted vs Actual Temperature at x = 7.5mm')\n",
    "plt.legend()\n",
    "plt.show()\n",
    "\n"
   ]
  },
  {
   "cell_type": "code",
   "execution_count": null,
   "metadata": {},
   "outputs": [],
   "source": []
  }
 ],
 "metadata": {
  "kernelspec": {
   "display_name": "deepxde",
   "language": "python",
   "name": "python3"
  },
  "language_info": {
   "codemirror_mode": {
    "name": "ipython",
    "version": 3
   },
   "file_extension": ".py",
   "mimetype": "text/x-python",
   "name": "python",
   "nbconvert_exporter": "python",
   "pygments_lexer": "ipython3",
   "version": "3.9.20"
  }
 },
 "nbformat": 4,
 "nbformat_minor": 2
}

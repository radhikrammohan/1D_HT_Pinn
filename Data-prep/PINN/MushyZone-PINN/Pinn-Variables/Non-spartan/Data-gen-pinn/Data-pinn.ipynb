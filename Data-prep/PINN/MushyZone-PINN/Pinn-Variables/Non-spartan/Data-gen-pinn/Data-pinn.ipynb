{
 "cells": [
  {
   "cell_type": "code",
   "execution_count": 42,
   "metadata": {},
   "outputs": [],
   "source": [
    "import numpy as np\n",
    "import matplotlib.pyplot as plt\n",
    "from Datagen import sim1d\n",
    "from sklearn.model_selection import train_test_split   \n",
    "from sklearn.preprocessing import PolynomialFeatures\n",
    "from sklearn.preprocessing import StandardScaler\n",
    "from sklearn.linear_model import LinearRegression\n",
    "from sklearn.linear_model import Ridge\n",
    "from sklearn.pipeline import make_pipeline\n"
   ]
  },
  {
   "cell_type": "code",
   "execution_count": 43,
   "metadata": {},
   "outputs": [
    {
     "name": "stdout",
     "output_type": "stream",
     "text": [
      "Stable\n",
      "Stable\n",
      "Stable\n",
      "(4720500,) (4720500,) (4720500,) (4720500,)\n"
     ]
    }
   ],
   "source": [
    "L1 = sim1d(rho_l=2460.0, rho_s=2710.0, k_l=104.0, k_s= 96.2, cp_l=1245.3, cp_s=963.0, \\\n",
    "            t_surr=298.0, L_fusion=389000, temp_init=913.0, htc_l=10.0,htc_r= 12.0, length =15.0e-3)\n",
    "                \n",
    "L2 = sim1d(rho_l=2460.0, rho_s=2710.0, k_l=104.0, k_s= 96.2, cp_l=1245.3, cp_s=963.0, \\\n",
    "            t_surr=298.0, L_fusion=389000, temp_init=913.0, htc_l=12.0,htc_r= 12.0, length =15.0e-3)\n",
    "L3 = sim1d(rho_l=2460.0, rho_s=2710.0, k_l=104.0, k_s= 96.2, cp_l=1245.3, cp_s=963.0, \n",
    "               t_surr=298.0, L_fusion=389000, temp_init=913.0, htc_l=15.0,htc_r= 12.0, length =15.0e-3)          \n",
    "\n",
    "\n",
    "def strat_sampler (x,t,percent):\n",
    "\n",
    "    l1 = len(x)\n",
    "    indices_1 = list(range(l1))\n",
    "\n",
    "    l2 = len(t)\n",
    "    indices_2 = list(range(l2))\n",
    "\n",
    "    bins_l1 = l1 //3\n",
    "    bins_l2 = l2 //3\n",
    "\n",
    "    l1_indices_1 = indices_1[:bins_l1] \n",
    "    l1_indices_2 = indices_1[bins_l1:2*bins_l1]\n",
    "    l1_indices_3 = indices_1[2*bins_l1:]\n",
    "\n",
    "    l2_indices_1 = indices_2[:bins_l2]\n",
    "    l2_indices_2 = indices_2[bins_l2:2*bins_l2]\n",
    "    l2_indices_3 = indices_2[2*bins_l2:]\n",
    "\n",
    "    bin1 = np.random.choice(l1_indices_1, int(percent*bins_l1), replace=False)\n",
    "    bin2 = np.random.choice(l1_indices_2, int(percent*bins_l1), replace=False)\n",
    "    bin3 = np.random.choice(l1_indices_3, int(percent*bins_l1), replace=False)\n",
    "\n",
    "\n",
    "    bin4 = np.random.choice(l2_indices_1, int(percent*bins_l2), replace=False)\n",
    "    bin5 = np.random.choice(l2_indices_2, int(percent*bins_l2), replace=False)\n",
    "    bin6 = np.random.choice(l2_indices_3, int(percent*bins_l2), replace=False)\n",
    "\n",
    "    index1 = np.concatenate((bin1,bin2,bin3))\n",
    "    index2 = np.concatenate((bin4,bin5,bin6))\n",
    "\n",
    "    return x[index1] , t[index2]\n",
    "\n",
    "\n",
    "htc_l_1 = 10.0\n",
    "htc_l_2 = 12.0\n",
    "htc_l_3 = 15.0\n",
    "\n",
    "T1,space_1,time_1 = L1[0],L1[1],L1[2]\n",
    "T2,space_2,time_2 = L2[0],L2[1],L2[2]\n",
    "T3,space_3,time_3 = L3[0],L3[1],L3[2]\n",
    "    \n",
    "\n",
    "\n",
    "space_1, time_1 = np.meshgrid(space_1, time_1)\n",
    "space_2, time_2 = np.meshgrid(space_2, time_2)\n",
    "space_3, time_3 = np.meshgrid(space_3, time_3)\n",
    "\n",
    "space_1 = space_1.flatten()\n",
    "time_1 = time_1.flatten()\n",
    "htc_l_1 = np.ones(space_1.shape)*htc_l_1\n",
    "\n",
    "space_2 = space_2.flatten()\n",
    "time_2 = time_2.flatten()\n",
    "htc_l_2 = np.ones(space_2.shape)*htc_l_2\n",
    "\n",
    "space_3 = space_3.flatten()\n",
    "time_3 = time_3.flatten()\n",
    "htc_l_3 = np.ones(space_3.shape)*htc_l_3\n",
    "\n",
    "Temp1 = T1.flatten()\n",
    "Temp2 = T2.flatten()\n",
    "Temp3 = T3.flatten()\n",
    "\n",
    "space_all = np.concatenate((space_1,space_2,space_3),axis=0)\n",
    "time_all = np.concatenate((time_1,time_2,time_3),axis=0)\n",
    "Temp_all = np.concatenate((Temp1,Temp2,Temp3),axis=0)\n",
    "htc_l_all = np.concatenate((htc_l_1,htc_l_2,htc_l_3),axis=0)\n",
    "\n",
    "\n",
    "print(space_all.shape,time_all.shape,Temp_all.shape,htc_l_all.shape)\n",
    "\n",
    "\n",
    "inputs = np.column_stack((space_all, time_all,htc_l_all))\n",
    "outputs = Temp_all\n",
    "\n",
    "# print(inputs.shape)\n",
    "# print(outputs.shape)"
   ]
  },
  {
   "cell_type": "code",
   "execution_count": 47,
   "metadata": {},
   "outputs": [
    {
     "name": "stdout",
     "output_type": "stream",
     "text": [
      "(236025, 3) (236025,)\n"
     ]
    }
   ],
   "source": [
    "percent = 5/100\n",
    "inputs_sampled, outputs_sampled = strat_sampler(inputs,outputs,percent)\n",
    "print(inputs_sampled.shape,outputs_sampled.shape)"
   ]
  },
  {
   "cell_type": "code",
   "execution_count": 45,
   "metadata": {},
   "outputs": [],
   "source": [
    "inputs_train, inputs_test, outputs_train, outputs_test = train_test_split(inputs_sampled, outputs_sampled, test_size=0.2, random_state=42)\n"
   ]
  },
  {
   "cell_type": "markdown",
   "metadata": {},
   "source": [
    "## train polynomial regression"
   ]
  },
  {
   "cell_type": "code",
   "execution_count": 46,
   "metadata": {},
   "outputs": [
    {
     "name": "stdout",
     "output_type": "stream",
     "text": [
      "0.019607991313964623\n"
     ]
    }
   ],
   "source": [
    "degree = 3\n",
    "scaler = StandardScaler()\n",
    "poly = PolynomialFeatures(degree,include_bias=False)\n",
    "\n",
    "model = make_pipeline(scaler,poly, LinearRegression())    \n",
    "\n",
    "model.fit(inputs_train, outputs_train)\n",
    "\n",
    "print(model.score(inputs_test, outputs_test))\n",
    "\n",
    "\n"
   ]
  }
 ],
 "metadata": {
  "kernelspec": {
   "display_name": "pytorch-env",
   "language": "python",
   "name": "python3"
  },
  "language_info": {
   "codemirror_mode": {
    "name": "ipython",
    "version": 3
   },
   "file_extension": ".py",
   "mimetype": "text/x-python",
   "name": "python",
   "nbconvert_exporter": "python",
   "pygments_lexer": "ipython3",
   "version": "3.11.8"
  }
 },
 "nbformat": 4,
 "nbformat_minor": 2
}

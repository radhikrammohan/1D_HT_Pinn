{
 "cells": [
  {
   "cell_type": "code",
   "execution_count": 21,
   "metadata": {},
   "outputs": [],
   "source": [
    "import torch\n",
    "import torch.nn as nn\n",
    "import torch.nn.functional as F\n",
    "import torch.optim as optim\n",
    "import numpy as np\n"
   ]
  },
  {
   "cell_type": "code",
   "execution_count": 22,
   "metadata": {},
   "outputs": [
    {
     "name": "stdout",
     "output_type": "stream",
     "text": [
      "[ 1.  2.  3.  4.  5.  6.  7.  8.  9. 10.]\n",
      "grad_x is[11. 14. 20. 26. 32. 38. 44. 50. 56. 59.]\n",
      "grad_xx is[3.  4.5 6.  6.  6.  6.  6.  6.  4.5 3. ]\n",
      "autograd_x is:tensor([ 8., 14., 20., 26., 32., 38., 44., 50., 56., 62.],\n",
      "       grad_fn=<AddBackward0>)\n",
      "autograd_xx is:(tensor([6., 6., 6., 6., 6., 6., 6., 6., 6., 6.], grad_fn=<MulBackward0>),)\n"
     ]
    }
   ],
   "source": [
    "def func(x):\n",
    "    return 3.0*x**2 + 2.0*x + 1\n",
    "x = np.linspace(1,10,10)\n",
    "print(x)\n",
    "\n",
    "# print(x)\n",
    "y = func(x)\n",
    "\n",
    "grad_x = np.gradient(y,x)\n",
    "print(f\"grad_x is{grad_y}\")\n",
    "\n",
    "grad_xx = np.gradient(grad_y,x)\n",
    "print(f\"grad_xx is{grad_yy}\")\n",
    "# print(y)\n",
    "xt = torch.tensor(x,requires_grad=True,dtype=torch.float32)\n",
    "\n",
    "yt = func(xt)\n",
    "# print(yt)\n",
    "\n",
    "\n",
    "grad_torch = torch.autograd.grad(outputs=yt.sum(),inputs=xt,\\\n",
    "                            create_graph=True)[0]\n",
    "print(f\"autograd_x is:{grad_torch}\")\n",
    "\n",
    "grad_xx = torch.autograd.grad(outputs=grad_torch.sum(),inputs=xt,\\\n",
    "                            create_graph=True)\n",
    "print(f\"autograd_xx is:{grad_xx}\")\n"
   ]
  }
 ],
 "metadata": {
  "kernelspec": {
   "display_name": "pytorch-env",
   "language": "python",
   "name": "python3"
  },
  "language_info": {
   "codemirror_mode": {
    "name": "ipython",
    "version": 3
   },
   "file_extension": ".py",
   "mimetype": "text/x-python",
   "name": "python",
   "nbconvert_exporter": "python",
   "pygments_lexer": "ipython3",
   "version": "3.11.8"
  }
 },
 "nbformat": 4,
 "nbformat_minor": 2
}
